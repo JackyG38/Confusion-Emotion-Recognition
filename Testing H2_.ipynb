{
  "cells": [
    {
      "cell_type": "code",
      "execution_count": null,
      "metadata": {
        "id": "mcCXqtayzfTm"
      },
      "outputs": [],
      "source": [
        "import io\n",
        "import sklearn\n",
        "import numpy as np\n",
        "import pandas as pd\n",
        "import seaborn as sns\n",
        "import matplotlib.pyplot as plot\n",
        "from sklearn.decomposition import PCA\n",
        "from sklearn.model_selection import train_test_split\n",
        "from sklearn.model_selection import KFold\n",
        "from sklearn.model_selection import cross_val_score\n",
        "from sklearn.preprocessing import StandardScaler\n"
      ]
    },
    {
      "cell_type": "code",
      "execution_count": null,
      "metadata": {
        "id": "2nk4sVJvGv0e"
      },
      "outputs": [],
      "source": [
        "import pandas as pd\n",
        "\n",
        "dfa = pd.read_csv(r'...')"
      ]
    },
    {
      "cell_type": "code",
      "source": [
        "df1 = dfa.drop(columns = ['SubjectID', 'VideoID','predefinedlabel'])\n",
        "df1.dropna()\n",
        "df = df1.sample(frac =0.8)\n",
        "df['user-definedlabeln'].value_counts()"
      ],
      "metadata": {
        "id": "Mj1kqysCU5dU"
      },
      "execution_count": null,
      "outputs": []
    },
    {
      "cell_type": "markdown",
      "source": [
        "**Feature Preprocessing**\n"
      ],
      "metadata": {
        "id": "GBCYR48zTeQj"
      }
    },
    {
      "cell_type": "code",
      "source": [
        "# Splitting into train, val and test set -- 80-10-10 split\n",
        "\n",
        "# First, an 70-30 split\n",
        "train_df, test_df = train_test_split(df1, test_size = 0.3, random_state = 113)\n",
        "\n",
        "# Then split the 20% into half\n",
        "val_df, test_df = train_test_split(test_df, test_size = 0.5, random_state = 113)\n",
        "\n",
        "ic = df.columns.tolist()\n",
        "ic.remove('user-definedlabeln')\n",
        "\n",
        "oc = ['user-definedlabeln']\n",
        "\n",
        "ytrain = train_df[oc]\n",
        "X_train = train_df.drop(columns = oc)\n",
        "\n",
        "yval = val_df[oc]\n",
        "X_val = val_df.drop(columns = oc)\n",
        "\n",
        "ytest = test_df[oc]\n",
        "X_test = test_df.drop(columns = oc)\n"
      ],
      "metadata": {
        "id": "gVmMCV9jTouA"
      },
      "execution_count": null,
      "outputs": []
    },
    {
      "cell_type": "markdown",
      "source": [
        "**SVM training using default hyperparameters**"
      ],
      "metadata": {
        "id": "NDWFsAucT3qJ"
      }
    },
    {
      "cell_type": "code",
      "source": [
        "from sklearn import  svm\n",
        "svm = svm.SVC()\n",
        "#params = svm.get_params()\n",
        "#params_df = pd.DataFrame(params, index=[0])\n",
        "#params_df.T\n",
        "svm.fit(X_train,ytrain)\n",
        "print(f'The accuracy score of the model is {svm.score(X_test,ytest.values.ravel()):.5f}')"
      ],
      "metadata": {
        "colab": {
          "base_uri": "https://localhost:8080/"
        },
        "id": "v8grh5S4Tweo",
        "outputId": "49a66769-daea-4562-9674-39a0dda966c8"
      },
      "execution_count": null,
      "outputs": [
        {
          "output_type": "stream",
          "name": "stderr",
          "text": [
            "/usr/local/lib/python3.10/dist-packages/sklearn/utils/validation.py:1143: DataConversionWarning: A column-vector y was passed when a 1d array was expected. Please change the shape of y to (n_samples, ), for example using ravel().\n",
            "  y = column_or_1d(y, warn=True)\n"
          ]
        },
        {
          "output_type": "stream",
          "name": "stdout",
          "text": [
            "The accuracy score of the model is 0.58117\n"
          ]
        }
      ]
    },
    {
      "cell_type": "markdown",
      "source": [
        "**Decomposing Bias and Variance**"
      ],
      "metadata": {
        "id": "_pw8c4HUKsAJ"
      }
    },
    {
      "cell_type": "markdown",
      "source": [
        "*passing pandas dataframe to numpy array as the mlxtend package does not support dataframe*"
      ],
      "metadata": {
        "id": "SYE2RH3nbTH4"
      }
    },
    {
      "cell_type": "code",
      "source": [
        "X_train=X_train.values"
      ],
      "metadata": {
        "id": "7X4-LcScbbGv"
      },
      "execution_count": null,
      "outputs": []
    },
    {
      "cell_type": "code",
      "source": [
        "X_test=X_test.values"
      ],
      "metadata": {
        "id": "D09_kZ0ecAVv"
      },
      "execution_count": null,
      "outputs": []
    },
    {
      "cell_type": "code",
      "source": [
        "ytrain=ytrain.values"
      ],
      "metadata": {
        "id": "vajU8-lVcGdZ"
      },
      "execution_count": null,
      "outputs": []
    },
    {
      "cell_type": "code",
      "source": [
        "ytest=ytest.values"
      ],
      "metadata": {
        "id": "AW_SWCfacLwZ"
      },
      "execution_count": null,
      "outputs": []
    },
    {
      "cell_type": "markdown",
      "source": [
        "**Decomposing Bias & Variance via SVM**"
      ],
      "metadata": {
        "id": "335PkSYbbb-m"
      }
    },
    {
      "cell_type": "code",
      "source": [
        "avg_expected_loss, avg_bias, avg_var = bias_variance_decomp(\n",
        "        svm, X_train, ytrain, X_test, ytest,\n",
        "        loss='0-1_loss',\n",
        "        random_seed=123)\n",
        "\n",
        "print('Average expected loss: %.3f' % avg_expected_loss)\n",
        "print('Average bias: %.3f' % avg_bias)\n",
        "print('Average variance: %.3f' % avg_var)"
      ],
      "metadata": {
        "id": "SMz3eqHsYTY9"
      },
      "execution_count": null,
      "outputs": []
    },
    {
      "cell_type": "markdown",
      "source": [
        " **ANOVA *f* Test to select Strongly correlated Features**"
      ],
      "metadata": {
        "id": "tPLPdlvRL_BF"
      }
    },
    {
      "cell_type": "code",
      "source": [
        "from sklearn.feature_selection import SelectKBest\n",
        "from sklearn.feature_selection import f_classif\n",
        "# configure to select all features\n",
        "fs = SelectKBest(score_func=f_classif, k='all')\n",
        "# learn relationship from training data\n",
        "fs.fit(X_train, ytrain)\n",
        "# transform train input data\n",
        "X_train_fs = fs.transform(X_train)\n",
        "# transform test input data\n",
        "X_test_fs = fs.transform(X_test)"
      ],
      "metadata": {
        "id": "dbDKpw0WL822"
      },
      "execution_count": null,
      "outputs": []
    },
    {
      "cell_type": "code",
      "source": [
        "# what are scores for the features\n",
        "for i in range(len(fs.scores_)):\n",
        " print('Feature %d: %f' % (i, fs.scores_[i]))\n",
        "# plot the scores\n",
        "plot.bar([i for i in range(len(fs.scores_))], fs.scores_)\n",
        "plot.show()"
      ],
      "metadata": {
        "id": "ED5E1W2pMhLC"
      },
      "execution_count": null,
      "outputs": []
    }
  ],
  "metadata": {
    "colab": {
      "provenance": [],
      "authorship_tag": "ABX9TyPLL4NAfI/gN13nfCqpFNyo"
    },
    "gpuClass": "standard",
    "kernelspec": {
      "display_name": "Python 3",
      "name": "python3"
    },
    "language_info": {
      "name": "python"
    }
  },
  "nbformat": 4,
  "nbformat_minor": 0
}