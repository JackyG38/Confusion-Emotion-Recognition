{
  "cells": [
    {
      "cell_type": "markdown",
      "metadata": {
        "id": "view-in-github",
        "colab_type": "text"
      },
      "source": [
        "<a href=\"https://colab.research.google.com/github/JackyG38/Confusion-Emotion-Recognition/blob/main/Copy_of_FINAL_Serial_Ensemble.ipynb\" target=\"_parent\"><img src=\"https://colab.research.google.com/assets/colab-badge.svg\" alt=\"Open In Colab\"/></a>"
      ]
    },
    {
      "cell_type": "code",
      "execution_count": null,
      "metadata": {
        "id": "mcCXqtayzfTm"
      },
      "outputs": [],
      "source": [
        "import io\n",
        "import sklearn\n",
        "import numpy as np\n",
        "import pandas as pd\n",
        "import seaborn as sns\n",
        "import matplotlib.pyplot as plot\n",
        "from sklearn.decomposition import PCA\n",
        "from sklearn.model_selection import train_test_split\n",
        "from sklearn.model_selection import KFold\n",
        "from sklearn.model_selection import cross_val_score\n",
        "from sklearn.preprocessing import StandardScaler\n",
        "from sklearn.svm import SVC\n",
        "from sklearn import  svm\n",
        "from sklearn.neighbors import KNeighborsClassifier\n",
        "from sklearn.ensemble import RandomForestClassifier\n",
        "\n",
        "import pickle\n",
        "\n"
      ]
    },
    {
      "cell_type": "code",
      "execution_count": null,
      "metadata": {
        "id": "2nk4sVJvGv0e",
        "colab": {
          "base_uri": "https://localhost:8080/",
          "height": 73
        },
        "outputId": "890f45e0-4a34-4eaa-fc31-64b61d593cd4"
      },
      "outputs": [
        {
          "output_type": "display_data",
          "data": {
            "text/plain": [
              "<IPython.core.display.HTML object>"
            ],
            "text/html": [
              "\n",
              "     <input type=\"file\" id=\"files-ce6dd75b-d173-42db-9356-284bf94feeb7\" name=\"files[]\" multiple disabled\n",
              "        style=\"border:none\" />\n",
              "     <output id=\"result-ce6dd75b-d173-42db-9356-284bf94feeb7\">\n",
              "      Upload widget is only available when the cell has been executed in the\n",
              "      current browser session. Please rerun this cell to enable.\n",
              "      </output>\n",
              "      <script>// Copyright 2017 Google LLC\n",
              "//\n",
              "// Licensed under the Apache License, Version 2.0 (the \"License\");\n",
              "// you may not use this file except in compliance with the License.\n",
              "// You may obtain a copy of the License at\n",
              "//\n",
              "//      http://www.apache.org/licenses/LICENSE-2.0\n",
              "//\n",
              "// Unless required by applicable law or agreed to in writing, software\n",
              "// distributed under the License is distributed on an \"AS IS\" BASIS,\n",
              "// WITHOUT WARRANTIES OR CONDITIONS OF ANY KIND, either express or implied.\n",
              "// See the License for the specific language governing permissions and\n",
              "// limitations under the License.\n",
              "\n",
              "/**\n",
              " * @fileoverview Helpers for google.colab Python module.\n",
              " */\n",
              "(function(scope) {\n",
              "function span(text, styleAttributes = {}) {\n",
              "  const element = document.createElement('span');\n",
              "  element.textContent = text;\n",
              "  for (const key of Object.keys(styleAttributes)) {\n",
              "    element.style[key] = styleAttributes[key];\n",
              "  }\n",
              "  return element;\n",
              "}\n",
              "\n",
              "// Max number of bytes which will be uploaded at a time.\n",
              "const MAX_PAYLOAD_SIZE = 100 * 1024;\n",
              "\n",
              "function _uploadFiles(inputId, outputId) {\n",
              "  const steps = uploadFilesStep(inputId, outputId);\n",
              "  const outputElement = document.getElementById(outputId);\n",
              "  // Cache steps on the outputElement to make it available for the next call\n",
              "  // to uploadFilesContinue from Python.\n",
              "  outputElement.steps = steps;\n",
              "\n",
              "  return _uploadFilesContinue(outputId);\n",
              "}\n",
              "\n",
              "// This is roughly an async generator (not supported in the browser yet),\n",
              "// where there are multiple asynchronous steps and the Python side is going\n",
              "// to poll for completion of each step.\n",
              "// This uses a Promise to block the python side on completion of each step,\n",
              "// then passes the result of the previous step as the input to the next step.\n",
              "function _uploadFilesContinue(outputId) {\n",
              "  const outputElement = document.getElementById(outputId);\n",
              "  const steps = outputElement.steps;\n",
              "\n",
              "  const next = steps.next(outputElement.lastPromiseValue);\n",
              "  return Promise.resolve(next.value.promise).then((value) => {\n",
              "    // Cache the last promise value to make it available to the next\n",
              "    // step of the generator.\n",
              "    outputElement.lastPromiseValue = value;\n",
              "    return next.value.response;\n",
              "  });\n",
              "}\n",
              "\n",
              "/**\n",
              " * Generator function which is called between each async step of the upload\n",
              " * process.\n",
              " * @param {string} inputId Element ID of the input file picker element.\n",
              " * @param {string} outputId Element ID of the output display.\n",
              " * @return {!Iterable<!Object>} Iterable of next steps.\n",
              " */\n",
              "function* uploadFilesStep(inputId, outputId) {\n",
              "  const inputElement = document.getElementById(inputId);\n",
              "  inputElement.disabled = false;\n",
              "\n",
              "  const outputElement = document.getElementById(outputId);\n",
              "  outputElement.innerHTML = '';\n",
              "\n",
              "  const pickedPromise = new Promise((resolve) => {\n",
              "    inputElement.addEventListener('change', (e) => {\n",
              "      resolve(e.target.files);\n",
              "    });\n",
              "  });\n",
              "\n",
              "  const cancel = document.createElement('button');\n",
              "  inputElement.parentElement.appendChild(cancel);\n",
              "  cancel.textContent = 'Cancel upload';\n",
              "  const cancelPromise = new Promise((resolve) => {\n",
              "    cancel.onclick = () => {\n",
              "      resolve(null);\n",
              "    };\n",
              "  });\n",
              "\n",
              "  // Wait for the user to pick the files.\n",
              "  const files = yield {\n",
              "    promise: Promise.race([pickedPromise, cancelPromise]),\n",
              "    response: {\n",
              "      action: 'starting',\n",
              "    }\n",
              "  };\n",
              "\n",
              "  cancel.remove();\n",
              "\n",
              "  // Disable the input element since further picks are not allowed.\n",
              "  inputElement.disabled = true;\n",
              "\n",
              "  if (!files) {\n",
              "    return {\n",
              "      response: {\n",
              "        action: 'complete',\n",
              "      }\n",
              "    };\n",
              "  }\n",
              "\n",
              "  for (const file of files) {\n",
              "    const li = document.createElement('li');\n",
              "    li.append(span(file.name, {fontWeight: 'bold'}));\n",
              "    li.append(span(\n",
              "        `(${file.type || 'n/a'}) - ${file.size} bytes, ` +\n",
              "        `last modified: ${\n",
              "            file.lastModifiedDate ? file.lastModifiedDate.toLocaleDateString() :\n",
              "                                    'n/a'} - `));\n",
              "    const percent = span('0% done');\n",
              "    li.appendChild(percent);\n",
              "\n",
              "    outputElement.appendChild(li);\n",
              "\n",
              "    const fileDataPromise = new Promise((resolve) => {\n",
              "      const reader = new FileReader();\n",
              "      reader.onload = (e) => {\n",
              "        resolve(e.target.result);\n",
              "      };\n",
              "      reader.readAsArrayBuffer(file);\n",
              "    });\n",
              "    // Wait for the data to be ready.\n",
              "    let fileData = yield {\n",
              "      promise: fileDataPromise,\n",
              "      response: {\n",
              "        action: 'continue',\n",
              "      }\n",
              "    };\n",
              "\n",
              "    // Use a chunked sending to avoid message size limits. See b/62115660.\n",
              "    let position = 0;\n",
              "    do {\n",
              "      const length = Math.min(fileData.byteLength - position, MAX_PAYLOAD_SIZE);\n",
              "      const chunk = new Uint8Array(fileData, position, length);\n",
              "      position += length;\n",
              "\n",
              "      const base64 = btoa(String.fromCharCode.apply(null, chunk));\n",
              "      yield {\n",
              "        response: {\n",
              "          action: 'append',\n",
              "          file: file.name,\n",
              "          data: base64,\n",
              "        },\n",
              "      };\n",
              "\n",
              "      let percentDone = fileData.byteLength === 0 ?\n",
              "          100 :\n",
              "          Math.round((position / fileData.byteLength) * 100);\n",
              "      percent.textContent = `${percentDone}% done`;\n",
              "\n",
              "    } while (position < fileData.byteLength);\n",
              "  }\n",
              "\n",
              "  // All done.\n",
              "  yield {\n",
              "    response: {\n",
              "      action: 'complete',\n",
              "    }\n",
              "  };\n",
              "}\n",
              "\n",
              "scope.google = scope.google || {};\n",
              "scope.google.colab = scope.google.colab || {};\n",
              "scope.google.colab._files = {\n",
              "  _uploadFiles,\n",
              "  _uploadFilesContinue,\n",
              "};\n",
              "})(self);\n",
              "</script> "
            ]
          },
          "metadata": {}
        },
        {
          "output_type": "stream",
          "name": "stdout",
          "text": [
            "Saving EEGA.csv to EEGA.csv\n"
          ]
        }
      ],
      "source": [
        "from google.colab import files\n",
        "uploaded = files.upload()"
      ]
    },
    {
      "cell_type": "code",
      "execution_count": null,
      "metadata": {
        "id": "XhfbZEPZzMPK"
      },
      "outputs": [],
      "source": [
        "import io\n",
        "df = pd.read_csv(io.BytesIO(uploaded['EEGA.csv']))\n",
        "# Dataset is now stored in a Pandas Dataframe"
      ]
    },
    {
      "cell_type": "code",
      "execution_count": null,
      "metadata": {
        "id": "6acAoRImxc0P"
      },
      "outputs": [],
      "source": [
        "df = df.drop(columns = ['SubjectID', 'VideoID','predefinedlabel'])\n",
        "#df = df.drop(columns = 'SubjectID')\n",
        "df.dropna()\n"
      ]
    },
    {
      "cell_type": "markdown",
      "metadata": {
        "id": "SHm-d0tdG1ro"
      },
      "source": [
        "Creating sub datasets"
      ]
    },
    {
      "cell_type": "code",
      "execution_count": null,
      "metadata": {
        "id": "OH6j8ImMG6os"
      },
      "outputs": [],
      "source": [
        "#svm\n",
        "df1 = df.sample(frac =0.8)"
      ]
    },
    {
      "cell_type": "code",
      "source": [
        "df1.shape"
      ],
      "metadata": {
        "colab": {
          "base_uri": "https://localhost:8080/"
        },
        "id": "VgrgXKLYvVLA",
        "outputId": "acd56f15-2c3c-4108-8895-22d0fe8b9f99"
      },
      "execution_count": null,
      "outputs": [
        {
          "output_type": "execute_result",
          "data": {
            "text/plain": [
              "(10249, 27)"
            ]
          },
          "metadata": {},
          "execution_count": 43
        }
      ]
    },
    {
      "cell_type": "markdown",
      "metadata": {
        "id": "G_4AG78pISvG"
      },
      "source": [
        "Splitting subset data into train validate and test "
      ]
    },
    {
      "cell_type": "code",
      "execution_count": null,
      "metadata": {
        "id": "l4O-vumJ1yiF"
      },
      "outputs": [],
      "source": [
        "train_df1, test_df1 = train_test_split(df1, test_size = 0.3, random_state = 113)\n",
        "#train_df2, test_df2 = train_test_split(df2, test_size = 0.3, random_state = 113)\n",
        "#train_df3, test_df3 = train_test_split(df3, test_size = 0.3, random_state = 113)\n",
        "#train_df4, test_df4 = train_test_split(df4, test_size = 0.3, random_state = 113)\n",
        "#train_df5, test_df5 = train_test_split(df5, test_size = 0.3, random_state = 113)\n",
        "#train_df6, test_df6 = train_test_split(df6, test_size = 0.3, random_state = 113)\n",
        "\n",
        "\n"
      ]
    },
    {
      "cell_type": "code",
      "execution_count": null,
      "metadata": {
        "id": "HIlt36VmI2EI"
      },
      "outputs": [],
      "source": [
        "ic1 = df.columns.tolist() #features\n",
        "#ic2 = df2.columns.tolist() #features\n",
        "#ic3 = df3.columns.tolist() #features\n",
        "#ic4 = df4.columns.tolist() #features\n",
        "#ic5 = df5.columns.tolist() #features\n",
        "#ic6 = df6.columns.tolist() #features\n"
      ]
    },
    {
      "cell_type": "code",
      "execution_count": null,
      "metadata": {
        "id": "pDr1RQf0KfD_"
      },
      "outputs": [],
      "source": [
        "ic1.remove('user-definedlabeln')\n",
        "oc1 = ['user-definedlabeln'] #target labels"
      ]
    },
    {
      "cell_type": "code",
      "execution_count": null,
      "metadata": {
        "id": "Jqu__XVzJENk"
      },
      "outputs": [],
      "source": [
        "X_train1 = train_df1[ic1]\n",
        "y_train1 = train_df1[oc1]\n",
        "X_test1 = test_df1[ic1]\n",
        "y_test1 = test_df1[oc1]\n"
      ]
    },
    {
      "cell_type": "code",
      "execution_count": null,
      "metadata": {
        "id": "lYx6PHuc8h7w"
      },
      "outputs": [],
      "source": [
        "ss = StandardScaler()\n",
        "\n",
        "X_trs1 = ss.fit_transform(X_train1)\n",
        "X_tes1 = ss.fit_transform(X_test1)"
      ]
    },
    {
      "cell_type": "markdown",
      "metadata": {
        "id": "yP3jlWXSJSxC"
      },
      "source": [
        "**TRAINING THE INDEPENDENT CLASSIFIERS WITH OPTIMIZED PARAMETERS**"
      ]
    },
    {
      "cell_type": "markdown",
      "metadata": {
        "id": "LzEAWFRUOozR"
      },
      "source": [
        "A) Support Vector Machine"
      ]
    },
    {
      "cell_type": "code",
      "source": [
        "from sklearn import  svm\n",
        "svm = SVC(kernel='rbf', C=7, degree = 1, gamma= 'scale', probability = True)\n",
        "svm.fit(X_trs1,y_train1)\n",
        "print(f'The accuracy score of the model is {svm.score(X_tes1,y_test1.values.ravel()):.5f}')"
      ],
      "metadata": {
        "id": "Erq9LFmyCrNw"
      },
      "execution_count": null,
      "outputs": []
    },
    {
      "cell_type": "markdown",
      "metadata": {
        "id": "pxIJPMZKOtpK"
      },
      "source": [
        "B) k Nearest Neighbour"
      ]
    },
    {
      "cell_type": "code",
      "execution_count": null,
      "metadata": {
        "id": "Z6WelVq2Tjpq"
      },
      "outputs": [],
      "source": [
        "KNN = KNeighborsClassifier(n_neighbors=120, \n",
        "                           weights='distance', \n",
        "                           metric='manhattan')\n",
        "KNN.fit(X_train1,y_train1)\n",
        "print(f'The accuracy score of the model is {KNN.score(X_test1,y_test1.values.ravel()):.5f}')"
      ]
    },
    {
      "cell_type": "markdown",
      "metadata": {
        "id": "KNi69yU7OyxA"
      },
      "source": [
        "C) Random Forest Classifier"
      ]
    },
    {
      "cell_type": "code",
      "source": [
        "rfc = RandomForestClassifier(n_estimators=200, \n",
        "        criterion='entropy', \n",
        "        min_samples_split= 4,\n",
        "        min_samples_leaf= 4, \n",
        "        max_depth=10, \n",
        "        max_features='log2')\n",
        "rfc.fit(X_trs1, y_train1)\n",
        "print(f'The accuracy score of the model is {rfc.score(X_tes1,y_test1.values.ravel()):.5f}')"
      ],
      "metadata": {
        "id": "dlDZRFPlDQii"
      },
      "execution_count": null,
      "outputs": []
    },
    {
      "cell_type": "markdown",
      "source": [
        "D) Decision Tree Classifier"
      ],
      "metadata": {
        "id": "WgwdGgjwkG0l"
      }
    },
    {
      "cell_type": "code",
      "source": [
        "from sklearn import tree\n",
        "dtc = tree.DecisionTreeClassifier()\n",
        "dtc.fit(X_trs1, y_train1)\n",
        "print(f'The accuracy score of the model is {dtc.score(X_tes1,y_test1.values.ravel()):.5f}')"
      ],
      "metadata": {
        "id": "MYGITP6ZL9Pk"
      },
      "execution_count": null,
      "outputs": []
    },
    {
      "cell_type": "markdown",
      "metadata": {
        "id": "AzQlH5t3O2NX"
      },
      "source": [
        "E) CatBoost Classifier"
      ]
    },
    {
      "cell_type": "code",
      "execution_count": null,
      "metadata": {
        "id": "agm2D7MH16Mv"
      },
      "outputs": [],
      "source": [
        "pip install catboost"
      ]
    },
    {
      "cell_type": "code",
      "execution_count": null,
      "metadata": {
        "id": "DwAT4l_pTvcp"
      },
      "outputs": [],
      "source": [
        "import catboost\n",
        "\n",
        "cat = catboost.CatBoostClassifier(iterations= 475,\n",
        "    learning_rate= 0.027583475549166746,\n",
        "    depth=4,\n",
        "    l2_leaf_reg= 1.0551779964424746e-05,\n",
        "    bootstrap_type='Bayesian',\n",
        "    random_strength= 2.0931628460945333e-07,\n",
        "    bagging_temperature= 0.923385947687978,\n",
        "    od_type='Iter',\n",
        "    od_wait= 26)\n",
        "cat.fit(X_trs1, y_train1)\n",
        "print(f'The accuracy score of the model is {cat.score(X_tes1,y_test1.values.ravel()):.5f}')"
      ]
    },
    {
      "cell_type": "markdown",
      "source": [
        "F) ADABoost  Classifier"
      ],
      "metadata": {
        "id": "DxbwF_xLfEg4"
      }
    },
    {
      "cell_type": "code",
      "source": [
        "from sklearn.ensemble import AdaBoostClassifier\n",
        "ada = AdaBoostClassifier(n_estimators=100, random_state=0)\n",
        "ada.fit(X_trs1, y_train1)\n",
        "print(f'The accuracy score of the model is {ada.score(X_tes1,y_test1.values.ravel()):.5f}')"
      ],
      "metadata": {
        "id": "Osuf5FbtNCWL"
      },
      "execution_count": null,
      "outputs": []
    },
    {
      "cell_type": "markdown",
      "metadata": {
        "id": "_HM6D2gHO54n"
      },
      "source": [
        " G) XGB Classifier"
      ]
    },
    {
      "cell_type": "code",
      "source": [
        "from xgboost import XGBClassifier\n",
        "xg1 = XGBClassifier(max_depth= 8,\n",
        "    learning_rate= 0.01998551759493316,\n",
        "    n_estimators= 56,\n",
        "    min_child_weight= 1,\n",
        "    gamma= 0.000187637803120415,\n",
        "    subsample= 0.8190504286066517,\n",
        "    colsample_bytree= 0.6611955891759931,\n",
        "    reg_alpha= 0.05945438336887176,\n",
        "    reg_lambda= 2.724508967377622e-05)\n",
        "xg1.fit(X_trs1, y_train1)\n",
        "print(f'The accuracy score of the model is {xg1.score(X_tes1,y_test1.values.ravel()):.5f}')"
      ],
      "metadata": {
        "id": "H62fOSr9Dxwg"
      },
      "execution_count": null,
      "outputs": []
    },
    {
      "cell_type": "markdown",
      "metadata": {
        "id": "fCPtmictMoue"
      },
      "source": [
        "**HETEROGENOUS SERIAL ENSEMBLE MODEL DEVELOPMENT**"
      ]
    },
    {
      "cell_type": "markdown",
      "metadata": {
        "id": "XH1wo-VBMwYF"
      },
      "source": [
        "A) Calculating Pairwise Disagreement measure"
      ]
    },
    {
      "cell_type": "code",
      "execution_count": null,
      "metadata": {
        "id": "_qVNWcEYXO7B"
      },
      "outputs": [],
      "source": [
        "from sklearn.metrics import accuracy_score\n",
        "\n",
        "# Define the trained models\n",
        "models = [svm,KNN,rfc,dtc,cat,ada,xg1]\n",
        "\n",
        "# Define the prediction function for a single model\n",
        "def predict_single_model(X, model):\n",
        "    y_pred = model.predict(X)\n",
        "    return y_pred\n",
        "\n",
        "# Define the disagreement function between two models\n",
        "def disagreement(y_pred1, y_pred2):\n",
        "    return np.sum(y_pred1 != y_pred2)\n",
        "\n",
        "# Compute the pairwise disagreements between all models\n",
        "disagreements = np.zeros((len(models), len(models)))\n",
        "for i in range(len(models)):\n",
        "    for j in range(i+1, len(models)):\n",
        "        y_pred1 = predict_single_model(X_tes1, models[i])\n",
        "        y_pred2 = predict_single_model(X_tes1, models[j])\n",
        "        disagreements[i][j] = disagreement(y_pred1, y_pred2)\n",
        "        disagreements[j][i] = disagreements[i][j]\n",
        "\n",
        "# Compute the disagreement scores for each model\n",
        "disagreement_scores = np.sum(disagreements, axis=1)"
      ]
    },
    {
      "cell_type": "code",
      "execution_count": null,
      "metadata": {
        "colab": {
          "base_uri": "https://localhost:8080/",
          "height": 727
        },
        "id": "hXqdg7F9TidS",
        "outputId": "02daf4a8-9897-49bb-d130-f9a21abb178e"
      },
      "outputs": [
        {
          "output_type": "display_data",
          "data": {
            "text/plain": [
              "<Figure size 1000x800 with 2 Axes>"
            ],
            "image/png": "[encoded data removed]"
          },
          "metadata": {}
        }
      ],
      "source": [
        "model_names = [ 'svm','KNN','rfc','dtc','cat','ada','xg']\n",
        "\n",
        "# Plot the heatmap\n",
        "sns.set()\n",
        "fig, ax = plot.subplots(figsize=(10,8))\n",
        "sns.heatmap(disagreements, cmap=\"coolwarm\", annot=True, linewidths=0.5, ax=ax)\n",
        "\n",
        "# Replace the tick labels with the model names\n",
        "ax.set_xticklabels(model_names)\n",
        "ax.set_yticklabels(model_names)\n",
        "\n",
        "# Add labels and title\n",
        "ax.set_xlabel('Models')\n",
        "ax.set_ylabel('Models')\n",
        "ax.set_title('Pairwise Disagreement Heatmap')\n",
        "plot.show()"
      ]
    },
    {
      "cell_type": "markdown",
      "metadata": {
        "id": "R7KWNvYqOIUi"
      },
      "source": [
        "B) Development of the 1st sub ensemble"
      ]
    },
    {
      "cell_type": "code",
      "execution_count": null,
      "metadata": {
        "id": "02QJeQT4Y23o",
        "colab": {
          "base_uri": "https://localhost:8080/",
          "height": 200
        },
        "outputId": "18828cde-7c49-419d-a777-33e3dd289074"
      },
      "outputs": [
        {
          "output_type": "stream",
          "name": "stderr",
          "text": [
            "/usr/local/lib/python3.10/dist-packages/sklearn/preprocessing/_label.py:99: DataConversionWarning: A column-vector y was passed when a 1d array was expected. Please change the shape of y to (n_samples, ), for example using ravel().\n",
            "  y = column_or_1d(y, warn=True)\n",
            "/usr/local/lib/python3.10/dist-packages/sklearn/preprocessing/_label.py:134: DataConversionWarning: A column-vector y was passed when a 1d array was expected. Please change the shape of y to (n_samples, ), for example using ravel().\n",
            "  y = column_or_1d(y, dtype=self.classes_.dtype, warn=True)\n"
          ]
        },
        {
          "output_type": "execute_result",
          "data": {
            "text/plain": [
              "VotingClassifier(estimators=[('RFC', RandomForestClassifier()),\n",
              "                             ('KNN',\n",
              "                              KNeighborsClassifier(metric='manhattan',\n",
              "                                                   n_neighbors=120,\n",
              "                                                   weights='distance'))],\n",
              "                 voting='soft', weights=[1, 1])"
            ],
            "text/html": [
              "<style>#sk-container-id-1 {color: black;background-color: white;}#sk-container-id-1 pre{padding: 0;}#sk-container-id-1 div.sk-toggleable {background-color: white;}#sk-container-id-1 label.sk-toggleable__label {cursor: pointer;display: block;width: 100%;margin-bottom: 0;padding: 0.3em;box-sizing: border-box;text-align: center;}#sk-container-id-1 label.sk-toggleable__label-arrow:before {content: \"▸\";float: left;margin-right: 0.25em;color: #696969;}#sk-container-id-1 label.sk-toggleable__label-arrow:hover:before {color: black;}#sk-container-id-1 div.sk-estimator:hover label.sk-toggleable__label-arrow:before {color: black;}#sk-container-id-1 div.sk-toggleable__content {max-height: 0;max-width: 0;overflow: hidden;text-align: left;background-color: #f0f8ff;}#sk-container-id-1 div.sk-toggleable__content pre {margin: 0.2em;color: black;border-radius: 0.25em;background-color: #f0f8ff;}#sk-container-id-1 input.sk-toggleable__control:checked~div.sk-toggleable__content {max-height: 200px;max-width: 100%;overflow: auto;}#sk-container-id-1 input.sk-toggleable__control:checked~label.sk-toggleable__label-arrow:before {content: \"▾\";}#sk-container-id-1 div.sk-estimator input.sk-toggleable__control:checked~label.sk-toggleable__label {background-color: #d4ebff;}#sk-container-id-1 div.sk-label input.sk-toggleable__control:checked~label.sk-toggleable__label {background-color: #d4ebff;}#sk-container-id-1 input.sk-hidden--visually {border: 0;clip: rect(1px 1px 1px 1px);clip: rect(1px, 1px, 1px, 1px);height: 1px;margin: -1px;overflow: hidden;padding: 0;position: absolute;width: 1px;}#sk-container-id-1 div.sk-estimator {font-family: monospace;background-color: #f0f8ff;border: 1px dotted black;border-radius: 0.25em;box-sizing: border-box;margin-bottom: 0.5em;}#sk-container-id-1 div.sk-estimator:hover {background-color: #d4ebff;}#sk-container-id-1 div.sk-parallel-item::after {content: \"\";width: 100%;border-bottom: 1px solid gray;flex-grow: 1;}#sk-container-id-1 div.sk-label:hover label.sk-toggleable__label {background-color: #d4ebff;}#sk-container-id-1 div.sk-serial::before {content: \"\";position: absolute;border-left: 1px solid gray;box-sizing: border-box;top: 0;bottom: 0;left: 50%;z-index: 0;}#sk-container-id-1 div.sk-serial {display: flex;flex-direction: column;align-items: center;background-color: white;padding-right: 0.2em;padding-left: 0.2em;position: relative;}#sk-container-id-1 div.sk-item {position: relative;z-index: 1;}#sk-container-id-1 div.sk-parallel {display: flex;align-items: stretch;justify-content: center;background-color: white;position: relative;}#sk-container-id-1 div.sk-item::before, #sk-container-id-1 div.sk-parallel-item::before {content: \"\";position: absolute;border-left: 1px solid gray;box-sizing: border-box;top: 0;bottom: 0;left: 50%;z-index: -1;}#sk-container-id-1 div.sk-parallel-item {display: flex;flex-direction: column;z-index: 1;position: relative;background-color: white;}#sk-container-id-1 div.sk-parallel-item:first-child::after {align-self: flex-end;width: 50%;}#sk-container-id-1 div.sk-parallel-item:last-child::after {align-self: flex-start;width: 50%;}#sk-container-id-1 div.sk-parallel-item:only-child::after {width: 0;}#sk-container-id-1 div.sk-dashed-wrapped {border: 1px dashed gray;margin: 0 0.4em 0.5em 0.4em;box-sizing: border-box;padding-bottom: 0.4em;background-color: white;}#sk-container-id-1 div.sk-label label {font-family: monospace;font-weight: bold;display: inline-block;line-height: 1.2em;}#sk-container-id-1 div.sk-label-container {text-align: center;}#sk-container-id-1 div.sk-container {/* jupyter's `normalize.less` sets `[hidden] { display: none; }` but bootstrap.min.css set `[hidden] { display: none !important; }` so we also need the `!important` here to be able to override the default hidden behavior on the sphinx rendered scikit-learn.org. See: https://github.com/scikit-learn/scikit-learn/issues/21755 */display: inline-block !important;position: relative;}#sk-container-id-1 div.sk-text-repr-fallback {display: none;}</style><div id=\"sk-container-id-1\" class=\"sk-top-container\"><div class=\"sk-text-repr-fallback\"><pre>VotingClassifier(estimators=[(&#x27;RFC&#x27;, RandomForestClassifier()),\n",
              "                             (&#x27;KNN&#x27;,\n",
              "                              KNeighborsClassifier(metric=&#x27;manhattan&#x27;,\n",
              "                                                   n_neighbors=120,\n",
              "                                                   weights=&#x27;distance&#x27;))],\n",
              "                 voting=&#x27;soft&#x27;, weights=[1, 1])</pre><b>In a Jupyter environment, please rerun this cell to show the HTML representation or trust the notebook. <br />On GitHub, the HTML representation is unable to render, please try loading this page with nbviewer.org.</b></div><div class=\"sk-container\" hidden><div class=\"sk-item sk-dashed-wrapped\"><div class=\"sk-label-container\"><div class=\"sk-label sk-toggleable\"><input class=\"sk-toggleable__control sk-hidden--visually\" id=\"sk-estimator-id-1\" type=\"checkbox\" ><label for=\"sk-estimator-id-1\" class=\"sk-toggleable__label sk-toggleable__label-arrow\">VotingClassifier</label><div class=\"sk-toggleable__content\"><pre>VotingClassifier(estimators=[(&#x27;RFC&#x27;, RandomForestClassifier()),\n",
              "                             (&#x27;KNN&#x27;,\n",
              "                              KNeighborsClassifier(metric=&#x27;manhattan&#x27;,\n",
              "                                                   n_neighbors=120,\n",
              "                                                   weights=&#x27;distance&#x27;))],\n",
              "                 voting=&#x27;soft&#x27;, weights=[1, 1])</pre></div></div></div><div class=\"sk-parallel\"><div class=\"sk-parallel-item\"><div class=\"sk-item\"><div class=\"sk-label-container\"><div class=\"sk-label sk-toggleable\"><label>RFC</label></div></div><div class=\"sk-serial\"><div class=\"sk-item\"><div class=\"sk-estimator sk-toggleable\"><input class=\"sk-toggleable__control sk-hidden--visually\" id=\"sk-estimator-id-2\" type=\"checkbox\" ><label for=\"sk-estimator-id-2\" class=\"sk-toggleable__label sk-toggleable__label-arrow\">RandomForestClassifier</label><div class=\"sk-toggleable__content\"><pre>RandomForestClassifier()</pre></div></div></div></div></div></div><div class=\"sk-parallel-item\"><div class=\"sk-item\"><div class=\"sk-label-container\"><div class=\"sk-label sk-toggleable\"><label>KNN</label></div></div><div class=\"sk-serial\"><div class=\"sk-item\"><div class=\"sk-estimator sk-toggleable\"><input class=\"sk-toggleable__control sk-hidden--visually\" id=\"sk-estimator-id-3\" type=\"checkbox\" ><label for=\"sk-estimator-id-3\" class=\"sk-toggleable__label sk-toggleable__label-arrow\">KNeighborsClassifier</label><div class=\"sk-toggleable__content\"><pre>KNeighborsClassifier(metric=&#x27;manhattan&#x27;, n_neighbors=120, weights=&#x27;distance&#x27;)</pre></div></div></div></div></div></div></div></div></div></div>"
            ]
          },
          "metadata": {},
          "execution_count": 19
        }
      ],
      "source": [
        "from sklearn.ensemble import VotingClassifier\n",
        "\n",
        "est_rfc = rfc\n",
        "#score_kNN=est_XB.fit(X_train,y_train).score(X_test,y_test)\n",
        "\n",
        "est_knn = KNN\n",
        "#score_knn=est_knn.fit(X_train,y_train).score(X_test,y_test)\n",
        "\n",
        "est_Ensemble1 = VotingClassifier(estimators=[('RFC', est_rfc), ('KNN', est_knn)],\n",
        "                        voting='soft',\n",
        "                        weights=[1, 1])\n",
        "est_Ensemble1.fit(X_trs1,y_train1)\n"
      ]
    },
    {
      "cell_type": "code",
      "execution_count": null,
      "metadata": {
        "colab": {
          "base_uri": "https://localhost:8080/"
        },
        "id": "lK307_ztX3_l",
        "outputId": "d6e8f8b7-9f98-4fc4-d786-5003c20b1083"
      },
      "outputs": [
        {
          "output_type": "stream",
          "name": "stdout",
          "text": [
            "The accuracy score for the testing dataset is 0.58923\n"
          ]
        }
      ],
      "source": [
        "print(f'The accuracy score for the testing dataset is {est_Ensemble1.score(X_tes1, y_test1):.5f}')"
      ]
    },
    {
      "cell_type": "code",
      "execution_count": null,
      "metadata": {
        "id": "qVGEhW-OYocr"
      },
      "outputs": [],
      "source": [
        "# Define the trained models\n",
        "models1 = [svm,est_Ensemble1,dtc,cat,ada,xg1]\n",
        "\n",
        "# Define the prediction function for a single model\n",
        "def predict_single_model(X, model):\n",
        "    y_pred = model.predict(X)\n",
        "    return y_pred\n",
        "\n",
        "# Define the disagreement function between two models\n",
        "def disagreement1(y_pred1, y_pred2):\n",
        "    return np.sum(y_pred1 != y_pred2)\n",
        "\n",
        "# Compute the pairwise disagreements between all models\n",
        "disagreements1 = np.zeros((len(models1), len(models1)))\n",
        "for i in range(len(models1)):\n",
        "    for j in range(i+1, len(models1)):\n",
        "        y_pred1 = predict_single_model(X_trs1, models1[i])\n",
        "        y_pred2 = predict_single_model(X_trs1, models1[j])\n",
        "        disagreements1[i][j] = disagreement1(y_pred1, y_pred2)\n",
        "        disagreements1[j][i] = disagreements1[i][j]\n",
        "\n",
        "# Compute the disagreement scores for each model\n",
        "disagreement_scores = np.sum(disagreements1, axis=1)"
      ]
    },
    {
      "cell_type": "code",
      "execution_count": null,
      "metadata": {
        "id": "bqCpixKzZJG0"
      },
      "outputs": [],
      "source": [
        "model_names = ['SVM','En1','DTC','Cat', 'ADA','XG']\n",
        "\n",
        "# Plot the heatmap\n",
        "sns.set()\n",
        "fig, ax = plot.subplots(figsize=(10,8))\n",
        "sns.heatmap(disagreements, cmap=\"coolwarm\", annot=True, linewidths=0.5, ax=ax)\n",
        "\n",
        "# Replace the tick labels with the model names\n",
        "ax.set_xticklabels(model_names)\n",
        "ax.set_yticklabels(model_names)\n",
        "\n",
        "# Add labels and title\n",
        "ax.set_xlabel('Models')\n",
        "ax.set_ylabel('Models')\n",
        "ax.set_title('Pairwise Disagreement Heatmap')\n",
        "plot.show()\n",
        "\n",
        "\n",
        "\n"
      ]
    },
    {
      "cell_type": "markdown",
      "source": [
        "Development of the 2nd Ensemble"
      ],
      "metadata": {
        "id": "ojw-HMcj0syI"
      }
    },
    {
      "cell_type": "code",
      "execution_count": null,
      "metadata": {
        "id": "EokkSorFaTGG",
        "colab": {
          "base_uri": "https://localhost:8080/",
          "height": 233
        },
        "outputId": "a0becf6b-65a1-46ad-c6b1-008bdd9960bf"
      },
      "outputs": [
        {
          "output_type": "stream",
          "name": "stderr",
          "text": [
            "/usr/local/lib/python3.10/dist-packages/sklearn/preprocessing/_label.py:99: DataConversionWarning: A column-vector y was passed when a 1d array was expected. Please change the shape of y to (n_samples, ), for example using ravel().\n",
            "  y = column_or_1d(y, warn=True)\n",
            "/usr/local/lib/python3.10/dist-packages/sklearn/preprocessing/_label.py:134: DataConversionWarning: A column-vector y was passed when a 1d array was expected. Please change the shape of y to (n_samples, ), for example using ravel().\n",
            "  y = column_or_1d(y, dtype=self.classes_.dtype, warn=True)\n"
          ]
        },
        {
          "output_type": "execute_result",
          "data": {
            "text/plain": [
              "VotingClassifier(estimators=[('En1',\n",
              "                              VotingClassifier(estimators=[('RFC',\n",
              "                                                            RandomForestClassifier()),\n",
              "                                                           ('KNN',\n",
              "                                                            KNeighborsClassifier(metric='manhattan',\n",
              "                                                                                 n_neighbors=120,\n",
              "                                                                                 weights='distance'))],\n",
              "                                               voting='soft', weights=[1, 1])),\n",
              "                             ('SVM', SVC(C=7, degree=1, probability=True))],\n",
              "                 voting='soft', weights=[1, 1])"
            ],
            "text/html": [
              "<style>#sk-container-id-2 {color: black;background-color: white;}#sk-container-id-2 pre{padding: 0;}#sk-container-id-2 div.sk-toggleable {background-color: white;}#sk-container-id-2 label.sk-toggleable__label {cursor: pointer;display: block;width: 100%;margin-bottom: 0;padding: 0.3em;box-sizing: border-box;text-align: center;}#sk-container-id-2 label.sk-toggleable__label-arrow:before {content: \"▸\";float: left;margin-right: 0.25em;color: #696969;}#sk-container-id-2 label.sk-toggleable__label-arrow:hover:before {color: black;}#sk-container-id-2 div.sk-estimator:hover label.sk-toggleable__label-arrow:before {color: black;}#sk-container-id-2 div.sk-toggleable__content {max-height: 0;max-width: 0;overflow: hidden;text-align: left;background-color: #f0f8ff;}#sk-container-id-2 div.sk-toggleable__content pre {margin: 0.2em;color: black;border-radius: 0.25em;background-color: #f0f8ff;}#sk-container-id-2 input.sk-toggleable__control:checked~div.sk-toggleable__content {max-height: 200px;max-width: 100%;overflow: auto;}#sk-container-id-2 input.sk-toggleable__control:checked~label.sk-toggleable__label-arrow:before {content: \"▾\";}#sk-container-id-2 div.sk-estimator input.sk-toggleable__control:checked~label.sk-toggleable__label {background-color: #d4ebff;}#sk-container-id-2 div.sk-label input.sk-toggleable__control:checked~label.sk-toggleable__label {background-color: #d4ebff;}#sk-container-id-2 input.sk-hidden--visually {border: 0;clip: rect(1px 1px 1px 1px);clip: rect(1px, 1px, 1px, 1px);height: 1px;margin: -1px;overflow: hidden;padding: 0;position: absolute;width: 1px;}#sk-container-id-2 div.sk-estimator {font-family: monospace;background-color: #f0f8ff;border: 1px dotted black;border-radius: 0.25em;box-sizing: border-box;margin-bottom: 0.5em;}#sk-container-id-2 div.sk-estimator:hover {background-color: #d4ebff;}#sk-container-id-2 div.sk-parallel-item::after {content: \"\";width: 100%;border-bottom: 1px solid gray;flex-grow: 1;}#sk-container-id-2 div.sk-label:hover label.sk-toggleable__label {background-color: #d4ebff;}#sk-container-id-2 div.sk-serial::before {content: \"\";position: absolute;border-left: 1px solid gray;box-sizing: border-box;top: 0;bottom: 0;left: 50%;z-index: 0;}#sk-container-id-2 div.sk-serial {display: flex;flex-direction: column;align-items: center;background-color: white;padding-right: 0.2em;padding-left: 0.2em;position: relative;}#sk-container-id-2 div.sk-item {position: relative;z-index: 1;}#sk-container-id-2 div.sk-parallel {display: flex;align-items: stretch;justify-content: center;background-color: white;position: relative;}#sk-container-id-2 div.sk-item::before, #sk-container-id-2 div.sk-parallel-item::before {content: \"\";position: absolute;border-left: 1px solid gray;box-sizing: border-box;top: 0;bottom: 0;left: 50%;z-index: -1;}#sk-container-id-2 div.sk-parallel-item {display: flex;flex-direction: column;z-index: 1;position: relative;background-color: white;}#sk-container-id-2 div.sk-parallel-item:first-child::after {align-self: flex-end;width: 50%;}#sk-container-id-2 div.sk-parallel-item:last-child::after {align-self: flex-start;width: 50%;}#sk-container-id-2 div.sk-parallel-item:only-child::after {width: 0;}#sk-container-id-2 div.sk-dashed-wrapped {border: 1px dashed gray;margin: 0 0.4em 0.5em 0.4em;box-sizing: border-box;padding-bottom: 0.4em;background-color: white;}#sk-container-id-2 div.sk-label label {font-family: monospace;font-weight: bold;display: inline-block;line-height: 1.2em;}#sk-container-id-2 div.sk-label-container {text-align: center;}#sk-container-id-2 div.sk-container {/* jupyter's `normalize.less` sets `[hidden] { display: none; }` but bootstrap.min.css set `[hidden] { display: none !important; }` so we also need the `!important` here to be able to override the default hidden behavior on the sphinx rendered scikit-learn.org. See: https://github.com/scikit-learn/scikit-learn/issues/21755 */display: inline-block !important;position: relative;}#sk-container-id-2 div.sk-text-repr-fallback {display: none;}</style><div id=\"sk-container-id-2\" class=\"sk-top-container\"><div class=\"sk-text-repr-fallback\"><pre>VotingClassifier(estimators=[(&#x27;En1&#x27;,\n",
              "                              VotingClassifier(estimators=[(&#x27;RFC&#x27;,\n",
              "                                                            RandomForestClassifier()),\n",
              "                                                           (&#x27;KNN&#x27;,\n",
              "                                                            KNeighborsClassifier(metric=&#x27;manhattan&#x27;,\n",
              "                                                                                 n_neighbors=120,\n",
              "                                                                                 weights=&#x27;distance&#x27;))],\n",
              "                                               voting=&#x27;soft&#x27;, weights=[1, 1])),\n",
              "                             (&#x27;SVM&#x27;, SVC(C=7, degree=1, probability=True))],\n",
              "                 voting=&#x27;soft&#x27;, weights=[1, 1])</pre><b>In a Jupyter environment, please rerun this cell to show the HTML representation or trust the notebook. <br />On GitHub, the HTML representation is unable to render, please try loading this page with nbviewer.org.</b></div><div class=\"sk-container\" hidden><div class=\"sk-item sk-dashed-wrapped\"><div class=\"sk-label-container\"><div class=\"sk-label sk-toggleable\"><input class=\"sk-toggleable__control sk-hidden--visually\" id=\"sk-estimator-id-4\" type=\"checkbox\" ><label for=\"sk-estimator-id-4\" class=\"sk-toggleable__label sk-toggleable__label-arrow\">VotingClassifier</label><div class=\"sk-toggleable__content\"><pre>VotingClassifier(estimators=[(&#x27;En1&#x27;,\n",
              "                              VotingClassifier(estimators=[(&#x27;RFC&#x27;,\n",
              "                                                            RandomForestClassifier()),\n",
              "                                                           (&#x27;KNN&#x27;,\n",
              "                                                            KNeighborsClassifier(metric=&#x27;manhattan&#x27;,\n",
              "                                                                                 n_neighbors=120,\n",
              "                                                                                 weights=&#x27;distance&#x27;))],\n",
              "                                               voting=&#x27;soft&#x27;, weights=[1, 1])),\n",
              "                             (&#x27;SVM&#x27;, SVC(C=7, degree=1, probability=True))],\n",
              "                 voting=&#x27;soft&#x27;, weights=[1, 1])</pre></div></div></div><div class=\"sk-parallel\"><div class=\"sk-parallel-item\"><div class=\"sk-item\"><div class=\"sk-label-container\"><div class=\"sk-label sk-toggleable\"><label>En1</label></div></div><div class=\"sk-serial\"><div class=\"sk-item sk-dashed-wrapped\"><div class=\"sk-parallel\"><div class=\"sk-parallel-item\"><div class=\"sk-item\"><div class=\"sk-label-container\"><div class=\"sk-label sk-toggleable\"><label>RFC</label></div></div><div class=\"sk-serial\"><div class=\"sk-item\"><div class=\"sk-estimator sk-toggleable\"><input class=\"sk-toggleable__control sk-hidden--visually\" id=\"sk-estimator-id-5\" type=\"checkbox\" ><label for=\"sk-estimator-id-5\" class=\"sk-toggleable__label sk-toggleable__label-arrow\">RandomForestClassifier</label><div class=\"sk-toggleable__content\"><pre>RandomForestClassifier()</pre></div></div></div></div></div></div><div class=\"sk-parallel-item\"><div class=\"sk-item\"><div class=\"sk-label-container\"><div class=\"sk-label sk-toggleable\"><label>KNN</label></div></div><div class=\"sk-serial\"><div class=\"sk-item\"><div class=\"sk-estimator sk-toggleable\"><input class=\"sk-toggleable__control sk-hidden--visually\" id=\"sk-estimator-id-6\" type=\"checkbox\" ><label for=\"sk-estimator-id-6\" class=\"sk-toggleable__label sk-toggleable__label-arrow\">KNeighborsClassifier</label><div class=\"sk-toggleable__content\"><pre>KNeighborsClassifier(metric=&#x27;manhattan&#x27;, n_neighbors=120, weights=&#x27;distance&#x27;)</pre></div></div></div></div></div></div></div></div></div></div></div><div class=\"sk-parallel-item\"><div class=\"sk-item\"><div class=\"sk-label-container\"><div class=\"sk-label sk-toggleable\"><label>SVM</label></div></div><div class=\"sk-serial\"><div class=\"sk-item\"><div class=\"sk-estimator sk-toggleable\"><input class=\"sk-toggleable__control sk-hidden--visually\" id=\"sk-estimator-id-7\" type=\"checkbox\" ><label for=\"sk-estimator-id-7\" class=\"sk-toggleable__label sk-toggleable__label-arrow\">SVC</label><div class=\"sk-toggleable__content\"><pre>SVC(C=7, degree=1, probability=True)</pre></div></div></div></div></div></div></div></div></div></div>"
            ]
          },
          "metadata": {},
          "execution_count": 20
        }
      ],
      "source": [
        "est_svm = svm\n",
        "#score_kNN=est_XB.fit(X_train,y_train).score(X_test,y_test)\n",
        "\n",
        "\n",
        "\n",
        "est_Ensemble2 = VotingClassifier(estimators=[('En1', est_Ensemble1), ('SVM', est_svm)],\n",
        "                        voting='soft',\n",
        "                        weights=[1, 1])\n",
        "est_Ensemble2.fit(X_trs1,y_train1)"
      ]
    },
    {
      "cell_type": "code",
      "execution_count": null,
      "metadata": {
        "colab": {
          "base_uri": "https://localhost:8080/"
        },
        "id": "qcNX5aw5atte",
        "outputId": "3453ea0c-44f6-491d-fcfe-7bb3ca0eeabf"
      },
      "outputs": [
        {
          "output_type": "stream",
          "name": "stdout",
          "text": [
            "The accuracy score for the testing dataset is 0.60276\n"
          ]
        }
      ],
      "source": [
        "print(f'The accuracy score for the testing dataset is {est_Ensemble2.score(X_tes1, y_test1):.5f}')"
      ]
    },
    {
      "cell_type": "code",
      "source": [
        "# Define the trained models\n",
        "models1 = [ est_Ensemble2,dtc,cat,ada,xg1]\n",
        "\n",
        "# Define the prediction function for a single model\n",
        "def predict_single_model(X, model):\n",
        "    y_pred = model.predict(X)\n",
        "    return y_pred\n",
        "\n",
        "# Define the disagreement function between two models\n",
        "def disagreement1(y_pred1, y_pred2):\n",
        "    return np.sum(y_pred1 != y_pred2)\n",
        "\n",
        "# Compute the pairwise disagreements between all models\n",
        "disagreements1 = np.zeros((len(models1), len(models1)))\n",
        "for i in range(len(models1)):\n",
        "    for j in range(i+1, len(models1)):\n",
        "        y_pred1 = predict_single_model(X_trs1, models1[i])\n",
        "        y_pred2 = predict_single_model(X_trs1, models1[j])\n",
        "        disagreements1[i][j] = disagreement1(y_pred1, y_pred2)\n",
        "        disagreements1[j][i] = disagreements1[i][j]\n",
        "\n",
        "# Compute the disagreement scores for each model\n",
        "disagreement_scores = np.sum(disagreements1, axis=1)"
      ],
      "metadata": {
        "id": "R9xXI2pkmbcY"
      },
      "execution_count": null,
      "outputs": []
    },
    {
      "cell_type": "code",
      "source": [
        "model_names = ['En2','dtc','cat', 'ada','xg']\n",
        "\n",
        "# Plot the heatmap\n",
        "sns.set()\n",
        "fig, ax = plot.subplots(figsize=(10,8))\n",
        "sns.heatmap(disagreements, cmap=\"coolwarm\", annot=True, linewidths=0.5, ax=ax)\n",
        "\n",
        "# Replace the tick labels with the model names\n",
        "ax.set_xticklabels(model_names)\n",
        "ax.set_yticklabels(model_names)\n",
        "\n",
        "# Add labels and title\n",
        "ax.set_xlabel('Models')\n",
        "ax.set_ylabel('Models')\n",
        "ax.set_title('Pairwise Disagreement Heatmap')\n",
        "plot.show()\n"
      ],
      "metadata": {
        "id": "vuYIWcb7miTW"
      },
      "execution_count": null,
      "outputs": []
    },
    {
      "cell_type": "markdown",
      "source": [
        "**Development of the 3rd Ensemble**"
      ],
      "metadata": {
        "id": "p1X_T0K_07dB"
      }
    },
    {
      "cell_type": "code",
      "execution_count": null,
      "metadata": {
        "id": "OxEovhIma27L",
        "colab": {
          "base_uri": "https://localhost:8080/",
          "height": 267
        },
        "outputId": "73702f73-df3f-43e6-f9fe-d353946cf5ad"
      },
      "outputs": [
        {
          "output_type": "stream",
          "name": "stderr",
          "text": [
            "/usr/local/lib/python3.10/dist-packages/sklearn/preprocessing/_label.py:99: DataConversionWarning: A column-vector y was passed when a 1d array was expected. Please change the shape of y to (n_samples, ), for example using ravel().\n",
            "  y = column_or_1d(y, warn=True)\n",
            "/usr/local/lib/python3.10/dist-packages/sklearn/preprocessing/_label.py:134: DataConversionWarning: A column-vector y was passed when a 1d array was expected. Please change the shape of y to (n_samples, ), for example using ravel().\n",
            "  y = column_or_1d(y, dtype=self.classes_.dtype, warn=True)\n"
          ]
        },
        {
          "output_type": "execute_result",
          "data": {
            "text/plain": [
              "VotingClassifier(estimators=[('En2  ',\n",
              "                              VotingClassifier(estimators=[('En1',\n",
              "                                                            VotingClassifier(estimators=[('RFC',\n",
              "                                                                                          RandomForestClassifier()),\n",
              "                                                                                         ('KNN',\n",
              "                                                                                          KNeighborsClassifier(metric='manhattan',\n",
              "                                                                                                               n_neighbors=120,\n",
              "                                                                                                               weights='distance'))],\n",
              "                                                                             voting='soft',\n",
              "                                                                             weights=[1,\n",
              "                                                                                      1])),\n",
              "                                                           ('SVM',\n",
              "                                                            SVC(C=7, degree=1,\n",
              "                                                                probability=True))],\n",
              "                                               voting='soft', weights=[1, 1])),\n",
              "                             ('XGBoost',\n",
              "                              XGBClassifier(ba...\n",
              "                                            importance_type=None,\n",
              "                                            interaction_constraints=None,\n",
              "                                            learning_rate=0.01998551759493316,\n",
              "                                            max_bin=None,\n",
              "                                            max_cat_threshold=None,\n",
              "                                            max_cat_to_onehot=None,\n",
              "                                            max_delta_step=None, max_depth=8,\n",
              "                                            max_leaves=None, min_child_weight=1,\n",
              "                                            missing=nan,\n",
              "                                            monotone_constraints=None,\n",
              "                                            n_estimators=56, n_jobs=None,\n",
              "                                            num_parallel_tree=None,\n",
              "                                            predictor=None, random_state=None, ...))],\n",
              "                 voting='soft', weights=[1, 1])"
            ],
            "text/html": [
              "<style>#sk-container-id-3 {color: black;background-color: white;}#sk-container-id-3 pre{padding: 0;}#sk-container-id-3 div.sk-toggleable {background-color: white;}#sk-container-id-3 label.sk-toggleable__label {cursor: pointer;display: block;width: 100%;margin-bottom: 0;padding: 0.3em;box-sizing: border-box;text-align: center;}#sk-container-id-3 label.sk-toggleable__label-arrow:before {content: \"▸\";float: left;margin-right: 0.25em;color: #696969;}#sk-container-id-3 label.sk-toggleable__label-arrow:hover:before {color: black;}#sk-container-id-3 div.sk-estimator:hover label.sk-toggleable__label-arrow:before {color: black;}#sk-container-id-3 div.sk-toggleable__content {max-height: 0;max-width: 0;overflow: hidden;text-align: left;background-color: #f0f8ff;}#sk-container-id-3 div.sk-toggleable__content pre {margin: 0.2em;color: black;border-radius: 0.25em;background-color: #f0f8ff;}#sk-container-id-3 input.sk-toggleable__control:checked~div.sk-toggleable__content {max-height: 200px;max-width: 100%;overflow: auto;}#sk-container-id-3 input.sk-toggleable__control:checked~label.sk-toggleable__label-arrow:before {content: \"▾\";}#sk-container-id-3 div.sk-estimator input.sk-toggleable__control:checked~label.sk-toggleable__label {background-color: #d4ebff;}#sk-container-id-3 div.sk-label input.sk-toggleable__control:checked~label.sk-toggleable__label {background-color: #d4ebff;}#sk-container-id-3 input.sk-hidden--visually {border: 0;clip: rect(1px 1px 1px 1px);clip: rect(1px, 1px, 1px, 1px);height: 1px;margin: -1px;overflow: hidden;padding: 0;position: absolute;width: 1px;}#sk-container-id-3 div.sk-estimator {font-family: monospace;background-color: #f0f8ff;border: 1px dotted black;border-radius: 0.25em;box-sizing: border-box;margin-bottom: 0.5em;}#sk-container-id-3 div.sk-estimator:hover {background-color: #d4ebff;}#sk-container-id-3 div.sk-parallel-item::after {content: \"\";width: 100%;border-bottom: 1px solid gray;flex-grow: 1;}#sk-container-id-3 div.sk-label:hover label.sk-toggleable__label {background-color: #d4ebff;}#sk-container-id-3 div.sk-serial::before {content: \"\";position: absolute;border-left: 1px solid gray;box-sizing: border-box;top: 0;bottom: 0;left: 50%;z-index: 0;}#sk-container-id-3 div.sk-serial {display: flex;flex-direction: column;align-items: center;background-color: white;padding-right: 0.2em;padding-left: 0.2em;position: relative;}#sk-container-id-3 div.sk-item {position: relative;z-index: 1;}#sk-container-id-3 div.sk-parallel {display: flex;align-items: stretch;justify-content: center;background-color: white;position: relative;}#sk-container-id-3 div.sk-item::before, #sk-container-id-3 div.sk-parallel-item::before {content: \"\";position: absolute;border-left: 1px solid gray;box-sizing: border-box;top: 0;bottom: 0;left: 50%;z-index: -1;}#sk-container-id-3 div.sk-parallel-item {display: flex;flex-direction: column;z-index: 1;position: relative;background-color: white;}#sk-container-id-3 div.sk-parallel-item:first-child::after {align-self: flex-end;width: 50%;}#sk-container-id-3 div.sk-parallel-item:last-child::after {align-self: flex-start;width: 50%;}#sk-container-id-3 div.sk-parallel-item:only-child::after {width: 0;}#sk-container-id-3 div.sk-dashed-wrapped {border: 1px dashed gray;margin: 0 0.4em 0.5em 0.4em;box-sizing: border-box;padding-bottom: 0.4em;background-color: white;}#sk-container-id-3 div.sk-label label {font-family: monospace;font-weight: bold;display: inline-block;line-height: 1.2em;}#sk-container-id-3 div.sk-label-container {text-align: center;}#sk-container-id-3 div.sk-container {/* jupyter's `normalize.less` sets `[hidden] { display: none; }` but bootstrap.min.css set `[hidden] { display: none !important; }` so we also need the `!important` here to be able to override the default hidden behavior on the sphinx rendered scikit-learn.org. See: https://github.com/scikit-learn/scikit-learn/issues/21755 */display: inline-block !important;position: relative;}#sk-container-id-3 div.sk-text-repr-fallback {display: none;}</style><div id=\"sk-container-id-3\" class=\"sk-top-container\"><div class=\"sk-text-repr-fallback\"><pre>VotingClassifier(estimators=[(&#x27;En2  &#x27;,\n",
              "                              VotingClassifier(estimators=[(&#x27;En1&#x27;,\n",
              "                                                            VotingClassifier(estimators=[(&#x27;RFC&#x27;,\n",
              "                                                                                          RandomForestClassifier()),\n",
              "                                                                                         (&#x27;KNN&#x27;,\n",
              "                                                                                          KNeighborsClassifier(metric=&#x27;manhattan&#x27;,\n",
              "                                                                                                               n_neighbors=120,\n",
              "                                                                                                               weights=&#x27;distance&#x27;))],\n",
              "                                                                             voting=&#x27;soft&#x27;,\n",
              "                                                                             weights=[1,\n",
              "                                                                                      1])),\n",
              "                                                           (&#x27;SVM&#x27;,\n",
              "                                                            SVC(C=7, degree=1,\n",
              "                                                                probability=True))],\n",
              "                                               voting=&#x27;soft&#x27;, weights=[1, 1])),\n",
              "                             (&#x27;XGBoost&#x27;,\n",
              "                              XGBClassifier(ba...\n",
              "                                            importance_type=None,\n",
              "                                            interaction_constraints=None,\n",
              "                                            learning_rate=0.01998551759493316,\n",
              "                                            max_bin=None,\n",
              "                                            max_cat_threshold=None,\n",
              "                                            max_cat_to_onehot=None,\n",
              "                                            max_delta_step=None, max_depth=8,\n",
              "                                            max_leaves=None, min_child_weight=1,\n",
              "                                            missing=nan,\n",
              "                                            monotone_constraints=None,\n",
              "                                            n_estimators=56, n_jobs=None,\n",
              "                                            num_parallel_tree=None,\n",
              "                                            predictor=None, random_state=None, ...))],\n",
              "                 voting=&#x27;soft&#x27;, weights=[1, 1])</pre><b>In a Jupyter environment, please rerun this cell to show the HTML representation or trust the notebook. <br />On GitHub, the HTML representation is unable to render, please try loading this page with nbviewer.org.</b></div><div class=\"sk-container\" hidden><div class=\"sk-item sk-dashed-wrapped\"><div class=\"sk-label-container\"><div class=\"sk-label sk-toggleable\"><input class=\"sk-toggleable__control sk-hidden--visually\" id=\"sk-estimator-id-8\" type=\"checkbox\" ><label for=\"sk-estimator-id-8\" class=\"sk-toggleable__label sk-toggleable__label-arrow\">VotingClassifier</label><div class=\"sk-toggleable__content\"><pre>VotingClassifier(estimators=[(&#x27;En2  &#x27;,\n",
              "                              VotingClassifier(estimators=[(&#x27;En1&#x27;,\n",
              "                                                            VotingClassifier(estimators=[(&#x27;RFC&#x27;,\n",
              "                                                                                          RandomForestClassifier()),\n",
              "                                                                                         (&#x27;KNN&#x27;,\n",
              "                                                                                          KNeighborsClassifier(metric=&#x27;manhattan&#x27;,\n",
              "                                                                                                               n_neighbors=120,\n",
              "                                                                                                               weights=&#x27;distance&#x27;))],\n",
              "                                                                             voting=&#x27;soft&#x27;,\n",
              "                                                                             weights=[1,\n",
              "                                                                                      1])),\n",
              "                                                           (&#x27;SVM&#x27;,\n",
              "                                                            SVC(C=7, degree=1,\n",
              "                                                                probability=True))],\n",
              "                                               voting=&#x27;soft&#x27;, weights=[1, 1])),\n",
              "                             (&#x27;XGBoost&#x27;,\n",
              "                              XGBClassifier(ba...\n",
              "                                            importance_type=None,\n",
              "                                            interaction_constraints=None,\n",
              "                                            learning_rate=0.01998551759493316,\n",
              "                                            max_bin=None,\n",
              "                                            max_cat_threshold=None,\n",
              "                                            max_cat_to_onehot=None,\n",
              "                                            max_delta_step=None, max_depth=8,\n",
              "                                            max_leaves=None, min_child_weight=1,\n",
              "                                            missing=nan,\n",
              "                                            monotone_constraints=None,\n",
              "                                            n_estimators=56, n_jobs=None,\n",
              "                                            num_parallel_tree=None,\n",
              "                                            predictor=None, random_state=None, ...))],\n",
              "                 voting=&#x27;soft&#x27;, weights=[1, 1])</pre></div></div></div><div class=\"sk-parallel\"><div class=\"sk-parallel-item\"><div class=\"sk-item\"><div class=\"sk-label-container\"><div class=\"sk-label sk-toggleable\"><label>En2  </label></div></div><div class=\"sk-serial\"><div class=\"sk-item sk-dashed-wrapped\"><div class=\"sk-parallel\"><div class=\"sk-parallel-item\"><div class=\"sk-item\"><div class=\"sk-label-container\"><div class=\"sk-label sk-toggleable\"><label>En1</label></div></div><div class=\"sk-serial\"><div class=\"sk-item sk-dashed-wrapped\"><div class=\"sk-parallel\"><div class=\"sk-parallel-item\"><div class=\"sk-item\"><div class=\"sk-label-container\"><div class=\"sk-label sk-toggleable\"><label>RFC</label></div></div><div class=\"sk-serial\"><div class=\"sk-item\"><div class=\"sk-estimator sk-toggleable\"><input class=\"sk-toggleable__control sk-hidden--visually\" id=\"sk-estimator-id-9\" type=\"checkbox\" ><label for=\"sk-estimator-id-9\" class=\"sk-toggleable__label sk-toggleable__label-arrow\">RandomForestClassifier</label><div class=\"sk-toggleable__content\"><pre>RandomForestClassifier()</pre></div></div></div></div></div></div><div class=\"sk-parallel-item\"><div class=\"sk-item\"><div class=\"sk-label-container\"><div class=\"sk-label sk-toggleable\"><label>KNN</label></div></div><div class=\"sk-serial\"><div class=\"sk-item\"><div class=\"sk-estimator sk-toggleable\"><input class=\"sk-toggleable__control sk-hidden--visually\" id=\"sk-estimator-id-10\" type=\"checkbox\" ><label for=\"sk-estimator-id-10\" class=\"sk-toggleable__label sk-toggleable__label-arrow\">KNeighborsClassifier</label><div class=\"sk-toggleable__content\"><pre>KNeighborsClassifier(metric=&#x27;manhattan&#x27;, n_neighbors=120, weights=&#x27;distance&#x27;)</pre></div></div></div></div></div></div></div></div></div></div></div><div class=\"sk-parallel-item\"><div class=\"sk-item\"><div class=\"sk-label-container\"><div class=\"sk-label sk-toggleable\"><label>SVM</label></div></div><div class=\"sk-serial\"><div class=\"sk-item\"><div class=\"sk-estimator sk-toggleable\"><input class=\"sk-toggleable__control sk-hidden--visually\" id=\"sk-estimator-id-11\" type=\"checkbox\" ><label for=\"sk-estimator-id-11\" class=\"sk-toggleable__label sk-toggleable__label-arrow\">SVC</label><div class=\"sk-toggleable__content\"><pre>SVC(C=7, degree=1, probability=True)</pre></div></div></div></div></div></div></div></div></div></div></div><div class=\"sk-parallel-item\"><div class=\"sk-item\"><div class=\"sk-label-container\"><div class=\"sk-label sk-toggleable\"><label>XGBoost</label></div></div><div class=\"sk-serial\"><div class=\"sk-item\"><div class=\"sk-estimator sk-toggleable\"><input class=\"sk-toggleable__control sk-hidden--visually\" id=\"sk-estimator-id-12\" type=\"checkbox\" ><label for=\"sk-estimator-id-12\" class=\"sk-toggleable__label sk-toggleable__label-arrow\">XGBClassifier</label><div class=\"sk-toggleable__content\"><pre>XGBClassifier(base_score=None, booster=None, callbacks=None,\n",
              "              colsample_bylevel=None, colsample_bynode=None,\n",
              "              colsample_bytree=0.6611955891759931, early_stopping_rounds=None,\n",
              "              enable_categorical=False, eval_metric=None, feature_types=None,\n",
              "              gamma=0.000187637803120415, gpu_id=None, grow_policy=None,\n",
              "              importance_type=None, interaction_constraints=None,\n",
              "              learning_rate=0.01998551759493316, max_bin=None,\n",
              "              max_cat_threshold=None, max_cat_to_onehot=None,\n",
              "              max_delta_step=None, max_depth=8, max_leaves=None,\n",
              "              min_child_weight=1, missing=nan, monotone_constraints=None,\n",
              "              n_estimators=56, n_jobs=None, num_parallel_tree=None,\n",
              "              predictor=None, random_state=None, ...)</pre></div></div></div></div></div></div></div></div></div></div>"
            ]
          },
          "metadata": {},
          "execution_count": 21
        }
      ],
      "source": [
        "est_xg = xg1\n",
        "\n",
        "est_Ensemble3 = VotingClassifier(estimators=[('En2  ', est_Ensemble2), ('XGBoost', est_xg)],\n",
        "                        voting='soft',\n",
        "                        weights=[1, 1])\n",
        "est_Ensemble3.fit(X_trs1,y_train1)"
      ]
    },
    {
      "cell_type": "code",
      "execution_count": null,
      "metadata": {
        "colab": {
          "base_uri": "https://localhost:8080/"
        },
        "id": "zdJfbGvvbuQH",
        "outputId": "7621d1e0-0243-4781-90ce-d5de538092d0"
      },
      "outputs": [
        {
          "output_type": "stream",
          "name": "stdout",
          "text": [
            "The accuracy score for the testing dataset is 0.59183\n"
          ]
        }
      ],
      "source": [
        "print(f'The accuracy score for the testing dataset is {est_Ensemble3.score(X_tes1, y_test1):.5f}')"
      ]
    },
    {
      "cell_type": "markdown",
      "source": [
        "**Development of the 4th Ensemble**"
      ],
      "metadata": {
        "id": "jDJs1bwf1MwU"
      }
    },
    {
      "cell_type": "code",
      "source": [
        "est_cat = cat\n",
        "\n",
        "est_Ensemble4 = VotingClassifier(estimators=[('En3', est_Ensemble3), ('CAT', est_cat)],\n",
        "                        voting='soft',\n",
        "                        weights=[1, 1])\n",
        "est_Ensemble4.fit(X_trs1,y_train1)"
      ],
      "metadata": {
        "id": "wnGeZTdLnR2I",
        "colab": {
          "base_uri": "https://localhost:8080/",
          "height": 1000
        },
        "outputId": "8147dd9f-26d4-4820-87e1-0311e5725549"
      },
      "execution_count": null,
      "outputs": [
        {
          "output_type": "stream",
          "name": "stderr",
          "text": [
            "/usr/local/lib/python3.10/dist-packages/sklearn/preprocessing/_label.py:99: DataConversionWarning: A column-vector y was passed when a 1d array was expected. Please change the shape of y to (n_samples, ), for example using ravel().\n",
            "  y = column_or_1d(y, warn=True)\n",
            "/usr/local/lib/python3.10/dist-packages/sklearn/preprocessing/_label.py:134: DataConversionWarning: A column-vector y was passed when a 1d array was expected. Please change the shape of y to (n_samples, ), for example using ravel().\n",
            "  y = column_or_1d(y, dtype=self.classes_.dtype, warn=True)\n"
          ]
        },
        {
          "output_type": "stream",
          "name": "stdout",
          "text": [
            "0:\tlearn: 0.6916433\ttotal: 4.7ms\tremaining: 2.23s\n",
            "1:\tlearn: 0.6903128\ttotal: 8.82ms\tremaining: 2.09s\n",
            "2:\tlearn: 0.6889981\ttotal: 12.6ms\tremaining: 1.99s\n",
            "3:\tlearn: 0.6877997\ttotal: 16.4ms\tremaining: 1.93s\n",
            "4:\tlearn: 0.6866467\ttotal: 20.3ms\tremaining: 1.91s\n",
            "5:\tlearn: 0.6854979\ttotal: 24.2ms\tremaining: 1.89s\n",
            "6:\tlearn: 0.6842945\ttotal: 28.1ms\tremaining: 1.88s\n",
            "7:\tlearn: 0.6832696\ttotal: 31.9ms\tremaining: 1.86s\n",
            "8:\tlearn: 0.6822306\ttotal: 35.7ms\tremaining: 1.85s\n",
            "9:\tlearn: 0.6813357\ttotal: 39.5ms\tremaining: 1.83s\n",
            "10:\tlearn: 0.6803695\ttotal: 43.4ms\tremaining: 1.83s\n",
            "11:\tlearn: 0.6793797\ttotal: 47.2ms\tremaining: 1.82s\n",
            "12:\tlearn: 0.6786277\ttotal: 50.8ms\tremaining: 1.8s\n",
            "13:\tlearn: 0.6778167\ttotal: 54.7ms\tremaining: 1.8s\n",
            "14:\tlearn: 0.6769661\ttotal: 58.3ms\tremaining: 1.79s\n",
            "15:\tlearn: 0.6763769\ttotal: 62ms\tremaining: 1.78s\n",
            "16:\tlearn: 0.6756077\ttotal: 65.9ms\tremaining: 1.77s\n",
            "17:\tlearn: 0.6751150\ttotal: 69.6ms\tremaining: 1.76s\n",
            "18:\tlearn: 0.6743975\ttotal: 73.3ms\tremaining: 1.76s\n",
            "19:\tlearn: 0.6737932\ttotal: 76.9ms\tremaining: 1.75s\n",
            "20:\tlearn: 0.6730881\ttotal: 80.8ms\tremaining: 1.75s\n",
            "21:\tlearn: 0.6725908\ttotal: 84.4ms\tremaining: 1.74s\n",
            "22:\tlearn: 0.6720162\ttotal: 88ms\tremaining: 1.73s\n",
            "23:\tlearn: 0.6715118\ttotal: 91.8ms\tremaining: 1.73s\n",
            "24:\tlearn: 0.6709986\ttotal: 95.4ms\tremaining: 1.72s\n",
            "25:\tlearn: 0.6704529\ttotal: 99.1ms\tremaining: 1.71s\n",
            "26:\tlearn: 0.6700290\ttotal: 103ms\tremaining: 1.71s\n",
            "27:\tlearn: 0.6696239\ttotal: 106ms\tremaining: 1.7s\n",
            "28:\tlearn: 0.6690822\ttotal: 110ms\tremaining: 1.7s\n",
            "29:\tlearn: 0.6686783\ttotal: 114ms\tremaining: 1.69s\n",
            "30:\tlearn: 0.6682827\ttotal: 118ms\tremaining: 1.69s\n",
            "31:\tlearn: 0.6679318\ttotal: 121ms\tremaining: 1.68s\n",
            "32:\tlearn: 0.6675451\ttotal: 125ms\tremaining: 1.67s\n",
            "33:\tlearn: 0.6672151\ttotal: 128ms\tremaining: 1.66s\n",
            "34:\tlearn: 0.6667634\ttotal: 132ms\tremaining: 1.66s\n",
            "35:\tlearn: 0.6664137\ttotal: 136ms\tremaining: 1.65s\n",
            "36:\tlearn: 0.6661031\ttotal: 139ms\tremaining: 1.65s\n",
            "37:\tlearn: 0.6657420\ttotal: 143ms\tremaining: 1.64s\n",
            "38:\tlearn: 0.6653828\ttotal: 146ms\tremaining: 1.64s\n",
            "39:\tlearn: 0.6650321\ttotal: 150ms\tremaining: 1.63s\n",
            "40:\tlearn: 0.6646982\ttotal: 154ms\tremaining: 1.63s\n",
            "41:\tlearn: 0.6643130\ttotal: 158ms\tremaining: 1.63s\n",
            "42:\tlearn: 0.6640661\ttotal: 161ms\tremaining: 1.62s\n",
            "43:\tlearn: 0.6636777\ttotal: 165ms\tremaining: 1.62s\n",
            "44:\tlearn: 0.6633302\ttotal: 169ms\tremaining: 1.62s\n",
            "45:\tlearn: 0.6629704\ttotal: 173ms\tremaining: 1.61s\n",
            "46:\tlearn: 0.6624575\ttotal: 177ms\tremaining: 1.61s\n",
            "47:\tlearn: 0.6620867\ttotal: 182ms\tremaining: 1.62s\n",
            "48:\tlearn: 0.6616981\ttotal: 186ms\tremaining: 1.61s\n",
            "49:\tlearn: 0.6614483\ttotal: 189ms\tremaining: 1.61s\n",
            "50:\tlearn: 0.6610848\ttotal: 193ms\tremaining: 1.6s\n",
            "51:\tlearn: 0.6606853\ttotal: 196ms\tremaining: 1.6s\n",
            "52:\tlearn: 0.6602788\ttotal: 201ms\tremaining: 1.6s\n",
            "53:\tlearn: 0.6599966\ttotal: 207ms\tremaining: 1.61s\n",
            "54:\tlearn: 0.6597957\ttotal: 211ms\tremaining: 1.61s\n",
            "55:\tlearn: 0.6595729\ttotal: 215ms\tremaining: 1.61s\n",
            "56:\tlearn: 0.6592751\ttotal: 218ms\tremaining: 1.6s\n",
            "57:\tlearn: 0.6590986\ttotal: 222ms\tremaining: 1.6s\n",
            "58:\tlearn: 0.6589335\ttotal: 226ms\tremaining: 1.59s\n",
            "59:\tlearn: 0.6587509\ttotal: 230ms\tremaining: 1.59s\n",
            "60:\tlearn: 0.6585188\ttotal: 234ms\tremaining: 1.58s\n",
            "61:\tlearn: 0.6582138\ttotal: 237ms\tremaining: 1.58s\n",
            "62:\tlearn: 0.6579160\ttotal: 242ms\tremaining: 1.58s\n",
            "63:\tlearn: 0.6576535\ttotal: 246ms\tremaining: 1.58s\n",
            "64:\tlearn: 0.6574090\ttotal: 249ms\tremaining: 1.57s\n",
            "65:\tlearn: 0.6570746\ttotal: 253ms\tremaining: 1.57s\n",
            "66:\tlearn: 0.6568142\ttotal: 257ms\tremaining: 1.57s\n",
            "67:\tlearn: 0.6566590\ttotal: 261ms\tremaining: 1.56s\n",
            "68:\tlearn: 0.6563652\ttotal: 265ms\tremaining: 1.56s\n",
            "69:\tlearn: 0.6559037\ttotal: 269ms\tremaining: 1.56s\n",
            "70:\tlearn: 0.6557277\ttotal: 273ms\tremaining: 1.55s\n",
            "71:\tlearn: 0.6554946\ttotal: 277ms\tremaining: 1.55s\n",
            "72:\tlearn: 0.6551667\ttotal: 281ms\tremaining: 1.55s\n",
            "73:\tlearn: 0.6550003\ttotal: 285ms\tremaining: 1.54s\n",
            "74:\tlearn: 0.6547606\ttotal: 289ms\tremaining: 1.54s\n",
            "75:\tlearn: 0.6545524\ttotal: 293ms\tremaining: 1.54s\n",
            "76:\tlearn: 0.6542868\ttotal: 297ms\tremaining: 1.53s\n",
            "77:\tlearn: 0.6541446\ttotal: 301ms\tremaining: 1.53s\n",
            "78:\tlearn: 0.6539931\ttotal: 305ms\tremaining: 1.53s\n",
            "79:\tlearn: 0.6537696\ttotal: 309ms\tremaining: 1.52s\n",
            "80:\tlearn: 0.6535954\ttotal: 313ms\tremaining: 1.52s\n",
            "81:\tlearn: 0.6534678\ttotal: 316ms\tremaining: 1.52s\n",
            "82:\tlearn: 0.6532208\ttotal: 320ms\tremaining: 1.51s\n",
            "83:\tlearn: 0.6529213\ttotal: 324ms\tremaining: 1.51s\n",
            "84:\tlearn: 0.6527163\ttotal: 328ms\tremaining: 1.5s\n",
            "85:\tlearn: 0.6524947\ttotal: 332ms\tremaining: 1.5s\n",
            "86:\tlearn: 0.6523530\ttotal: 336ms\tremaining: 1.5s\n",
            "87:\tlearn: 0.6521572\ttotal: 340ms\tremaining: 1.49s\n",
            "88:\tlearn: 0.6519868\ttotal: 344ms\tremaining: 1.49s\n",
            "89:\tlearn: 0.6518004\ttotal: 348ms\tremaining: 1.49s\n",
            "90:\tlearn: 0.6516286\ttotal: 352ms\tremaining: 1.49s\n",
            "91:\tlearn: 0.6514669\ttotal: 356ms\tremaining: 1.48s\n",
            "92:\tlearn: 0.6510408\ttotal: 360ms\tremaining: 1.48s\n",
            "93:\tlearn: 0.6507898\ttotal: 364ms\tremaining: 1.47s\n",
            "94:\tlearn: 0.6506328\ttotal: 368ms\tremaining: 1.47s\n",
            "95:\tlearn: 0.6503096\ttotal: 372ms\tremaining: 1.47s\n",
            "96:\tlearn: 0.6498879\ttotal: 376ms\tremaining: 1.46s\n",
            "97:\tlearn: 0.6495674\ttotal: 380ms\tremaining: 1.46s\n",
            "98:\tlearn: 0.6493531\ttotal: 384ms\tremaining: 1.46s\n",
            "99:\tlearn: 0.6492169\ttotal: 388ms\tremaining: 1.45s\n",
            "100:\tlearn: 0.6490074\ttotal: 392ms\tremaining: 1.45s\n",
            "101:\tlearn: 0.6488779\ttotal: 395ms\tremaining: 1.45s\n",
            "102:\tlearn: 0.6487722\ttotal: 403ms\tremaining: 1.46s\n",
            "103:\tlearn: 0.6486049\ttotal: 409ms\tremaining: 1.46s\n",
            "104:\tlearn: 0.6483869\ttotal: 413ms\tremaining: 1.46s\n",
            "105:\tlearn: 0.6482273\ttotal: 417ms\tremaining: 1.45s\n",
            "106:\tlearn: 0.6481018\ttotal: 421ms\tremaining: 1.45s\n",
            "107:\tlearn: 0.6478190\ttotal: 424ms\tremaining: 1.44s\n",
            "108:\tlearn: 0.6476562\ttotal: 428ms\tremaining: 1.44s\n",
            "109:\tlearn: 0.6475825\ttotal: 432ms\tremaining: 1.43s\n",
            "110:\tlearn: 0.6474049\ttotal: 435ms\tremaining: 1.43s\n",
            "111:\tlearn: 0.6472139\ttotal: 439ms\tremaining: 1.42s\n",
            "112:\tlearn: 0.6470752\ttotal: 443ms\tremaining: 1.42s\n",
            "113:\tlearn: 0.6469452\ttotal: 446ms\tremaining: 1.41s\n",
            "114:\tlearn: 0.6467970\ttotal: 450ms\tremaining: 1.41s\n",
            "115:\tlearn: 0.6466418\ttotal: 454ms\tremaining: 1.4s\n",
            "116:\tlearn: 0.6464345\ttotal: 457ms\tremaining: 1.4s\n",
            "117:\tlearn: 0.6462952\ttotal: 461ms\tremaining: 1.4s\n",
            "118:\tlearn: 0.6461178\ttotal: 465ms\tremaining: 1.39s\n",
            "119:\tlearn: 0.6460088\ttotal: 469ms\tremaining: 1.39s\n",
            "120:\tlearn: 0.6458459\ttotal: 472ms\tremaining: 1.38s\n",
            "121:\tlearn: 0.6456823\ttotal: 476ms\tremaining: 1.38s\n",
            "122:\tlearn: 0.6455107\ttotal: 480ms\tremaining: 1.37s\n",
            "123:\tlearn: 0.6453286\ttotal: 484ms\tremaining: 1.37s\n",
            "124:\tlearn: 0.6452178\ttotal: 488ms\tremaining: 1.36s\n",
            "125:\tlearn: 0.6450029\ttotal: 492ms\tremaining: 1.36s\n",
            "126:\tlearn: 0.6447388\ttotal: 495ms\tremaining: 1.36s\n",
            "127:\tlearn: 0.6445439\ttotal: 499ms\tremaining: 1.35s\n",
            "128:\tlearn: 0.6444060\ttotal: 503ms\tremaining: 1.35s\n",
            "129:\tlearn: 0.6442454\ttotal: 506ms\tremaining: 1.34s\n",
            "130:\tlearn: 0.6440264\ttotal: 510ms\tremaining: 1.34s\n",
            "131:\tlearn: 0.6439207\ttotal: 513ms\tremaining: 1.33s\n",
            "132:\tlearn: 0.6438068\ttotal: 517ms\tremaining: 1.33s\n",
            "133:\tlearn: 0.6436138\ttotal: 521ms\tremaining: 1.32s\n",
            "134:\tlearn: 0.6434460\ttotal: 524ms\tremaining: 1.32s\n",
            "135:\tlearn: 0.6431851\ttotal: 528ms\tremaining: 1.32s\n",
            "136:\tlearn: 0.6429675\ttotal: 532ms\tremaining: 1.31s\n",
            "137:\tlearn: 0.6427940\ttotal: 536ms\tremaining: 1.31s\n",
            "138:\tlearn: 0.6426223\ttotal: 539ms\tremaining: 1.3s\n",
            "139:\tlearn: 0.6424011\ttotal: 543ms\tremaining: 1.3s\n",
            "140:\tlearn: 0.6422812\ttotal: 547ms\tremaining: 1.29s\n",
            "141:\tlearn: 0.6421882\ttotal: 550ms\tremaining: 1.29s\n",
            "142:\tlearn: 0.6420490\ttotal: 554ms\tremaining: 1.28s\n",
            "143:\tlearn: 0.6418363\ttotal: 558ms\tremaining: 1.28s\n",
            "144:\tlearn: 0.6417231\ttotal: 561ms\tremaining: 1.28s\n",
            "145:\tlearn: 0.6416405\ttotal: 565ms\tremaining: 1.27s\n",
            "146:\tlearn: 0.6413883\ttotal: 569ms\tremaining: 1.27s\n",
            "147:\tlearn: 0.6411939\ttotal: 573ms\tremaining: 1.26s\n",
            "148:\tlearn: 0.6410234\ttotal: 576ms\tremaining: 1.26s\n",
            "149:\tlearn: 0.6408589\ttotal: 580ms\tremaining: 1.26s\n",
            "150:\tlearn: 0.6406361\ttotal: 584ms\tremaining: 1.25s\n",
            "151:\tlearn: 0.6404763\ttotal: 588ms\tremaining: 1.25s\n",
            "152:\tlearn: 0.6402251\ttotal: 592ms\tremaining: 1.25s\n",
            "153:\tlearn: 0.6399661\ttotal: 595ms\tremaining: 1.24s\n",
            "154:\tlearn: 0.6398259\ttotal: 599ms\tremaining: 1.24s\n",
            "155:\tlearn: 0.6396469\ttotal: 607ms\tremaining: 1.24s\n",
            "156:\tlearn: 0.6395249\ttotal: 611ms\tremaining: 1.24s\n",
            "157:\tlearn: 0.6393501\ttotal: 615ms\tremaining: 1.23s\n",
            "158:\tlearn: 0.6390835\ttotal: 619ms\tremaining: 1.23s\n",
            "159:\tlearn: 0.6388889\ttotal: 622ms\tremaining: 1.23s\n",
            "160:\tlearn: 0.6388119\ttotal: 626ms\tremaining: 1.22s\n",
            "161:\tlearn: 0.6386867\ttotal: 630ms\tremaining: 1.22s\n",
            "162:\tlearn: 0.6385830\ttotal: 634ms\tremaining: 1.21s\n",
            "163:\tlearn: 0.6384645\ttotal: 638ms\tremaining: 1.21s\n",
            "164:\tlearn: 0.6383428\ttotal: 642ms\tremaining: 1.21s\n",
            "165:\tlearn: 0.6381619\ttotal: 645ms\tremaining: 1.2s\n",
            "166:\tlearn: 0.6379815\ttotal: 649ms\tremaining: 1.2s\n",
            "167:\tlearn: 0.6378925\ttotal: 652ms\tremaining: 1.19s\n",
            "168:\tlearn: 0.6377921\ttotal: 655ms\tremaining: 1.19s\n",
            "169:\tlearn: 0.6376841\ttotal: 659ms\tremaining: 1.18s\n",
            "170:\tlearn: 0.6375896\ttotal: 662ms\tremaining: 1.18s\n",
            "171:\tlearn: 0.6373574\ttotal: 666ms\tremaining: 1.17s\n",
            "172:\tlearn: 0.6371677\ttotal: 670ms\tremaining: 1.17s\n",
            "173:\tlearn: 0.6370551\ttotal: 673ms\tremaining: 1.16s\n",
            "174:\tlearn: 0.6368890\ttotal: 677ms\tremaining: 1.16s\n",
            "175:\tlearn: 0.6367395\ttotal: 682ms\tremaining: 1.16s\n",
            "176:\tlearn: 0.6366788\ttotal: 688ms\tremaining: 1.16s\n",
            "177:\tlearn: 0.6365751\ttotal: 692ms\tremaining: 1.16s\n",
            "178:\tlearn: 0.6364640\ttotal: 700ms\tremaining: 1.16s\n",
            "179:\tlearn: 0.6361618\ttotal: 706ms\tremaining: 1.16s\n",
            "180:\tlearn: 0.6359314\ttotal: 710ms\tremaining: 1.15s\n",
            "181:\tlearn: 0.6358367\ttotal: 714ms\tremaining: 1.15s\n",
            "182:\tlearn: 0.6357550\ttotal: 717ms\tremaining: 1.14s\n",
            "183:\tlearn: 0.6356192\ttotal: 721ms\tremaining: 1.14s\n",
            "184:\tlearn: 0.6354931\ttotal: 725ms\tremaining: 1.14s\n",
            "185:\tlearn: 0.6353217\ttotal: 729ms\tremaining: 1.13s\n",
            "186:\tlearn: 0.6350537\ttotal: 733ms\tremaining: 1.13s\n",
            "187:\tlearn: 0.6346930\ttotal: 739ms\tremaining: 1.13s\n",
            "188:\tlearn: 0.6345848\ttotal: 743ms\tremaining: 1.12s\n",
            "189:\tlearn: 0.6345016\ttotal: 747ms\tremaining: 1.12s\n",
            "190:\tlearn: 0.6343139\ttotal: 751ms\tremaining: 1.11s\n",
            "191:\tlearn: 0.6342319\ttotal: 754ms\tremaining: 1.11s\n",
            "192:\tlearn: 0.6341139\ttotal: 758ms\tremaining: 1.11s\n",
            "193:\tlearn: 0.6339071\ttotal: 762ms\tremaining: 1.1s\n",
            "194:\tlearn: 0.6337870\ttotal: 766ms\tremaining: 1.1s\n",
            "195:\tlearn: 0.6335784\ttotal: 770ms\tremaining: 1.1s\n",
            "196:\tlearn: 0.6334109\ttotal: 774ms\tremaining: 1.09s\n",
            "197:\tlearn: 0.6332395\ttotal: 778ms\tremaining: 1.09s\n",
            "198:\tlearn: 0.6331516\ttotal: 783ms\tremaining: 1.08s\n",
            "199:\tlearn: 0.6329240\ttotal: 786ms\tremaining: 1.08s\n",
            "200:\tlearn: 0.6327484\ttotal: 790ms\tremaining: 1.08s\n",
            "201:\tlearn: 0.6325818\ttotal: 794ms\tremaining: 1.07s\n",
            "202:\tlearn: 0.6324704\ttotal: 799ms\tremaining: 1.07s\n",
            "203:\tlearn: 0.6322528\ttotal: 807ms\tremaining: 1.07s\n",
            "204:\tlearn: 0.6320548\ttotal: 811ms\tremaining: 1.07s\n",
            "205:\tlearn: 0.6318956\ttotal: 815ms\tremaining: 1.06s\n",
            "206:\tlearn: 0.6317973\ttotal: 819ms\tremaining: 1.06s\n",
            "207:\tlearn: 0.6316642\ttotal: 824ms\tremaining: 1.06s\n",
            "208:\tlearn: 0.6315468\ttotal: 827ms\tremaining: 1.05s\n",
            "209:\tlearn: 0.6313960\ttotal: 831ms\tremaining: 1.05s\n",
            "210:\tlearn: 0.6311976\ttotal: 835ms\tremaining: 1.04s\n",
            "211:\tlearn: 0.6310044\ttotal: 838ms\tremaining: 1.04s\n",
            "212:\tlearn: 0.6308789\ttotal: 842ms\tremaining: 1.03s\n",
            "213:\tlearn: 0.6307322\ttotal: 846ms\tremaining: 1.03s\n",
            "214:\tlearn: 0.6305847\ttotal: 850ms\tremaining: 1.03s\n",
            "215:\tlearn: 0.6304872\ttotal: 853ms\tremaining: 1.02s\n",
            "216:\tlearn: 0.6303915\ttotal: 857ms\tremaining: 1.02s\n",
            "217:\tlearn: 0.6302726\ttotal: 861ms\tremaining: 1.01s\n",
            "218:\tlearn: 0.6301739\ttotal: 866ms\tremaining: 1.01s\n",
            "219:\tlearn: 0.6300978\ttotal: 870ms\tremaining: 1.01s\n",
            "220:\tlearn: 0.6299900\ttotal: 873ms\tremaining: 1s\n",
            "221:\tlearn: 0.6299319\ttotal: 877ms\tremaining: 999ms\n",
            "222:\tlearn: 0.6297691\ttotal: 881ms\tremaining: 996ms\n",
            "223:\tlearn: 0.6297126\ttotal: 885ms\tremaining: 992ms\n",
            "224:\tlearn: 0.6295602\ttotal: 889ms\tremaining: 987ms\n",
            "225:\tlearn: 0.6294110\ttotal: 892ms\tremaining: 983ms\n",
            "226:\tlearn: 0.6293305\ttotal: 896ms\tremaining: 979ms\n",
            "227:\tlearn: 0.6290806\ttotal: 900ms\tremaining: 975ms\n",
            "228:\tlearn: 0.6289573\ttotal: 904ms\tremaining: 971ms\n",
            "229:\tlearn: 0.6288227\ttotal: 907ms\tremaining: 967ms\n",
            "230:\tlearn: 0.6286769\ttotal: 911ms\tremaining: 963ms\n",
            "231:\tlearn: 0.6285854\ttotal: 915ms\tremaining: 958ms\n",
            "232:\tlearn: 0.6283864\ttotal: 919ms\tremaining: 955ms\n",
            "233:\tlearn: 0.6283104\ttotal: 923ms\tremaining: 951ms\n",
            "234:\tlearn: 0.6281469\ttotal: 927ms\tremaining: 947ms\n",
            "235:\tlearn: 0.6280382\ttotal: 931ms\tremaining: 943ms\n",
            "236:\tlearn: 0.6279008\ttotal: 934ms\tremaining: 938ms\n",
            "237:\tlearn: 0.6278018\ttotal: 938ms\tremaining: 934ms\n",
            "238:\tlearn: 0.6276630\ttotal: 942ms\tremaining: 930ms\n",
            "239:\tlearn: 0.6275953\ttotal: 946ms\tremaining: 926ms\n",
            "240:\tlearn: 0.6274964\ttotal: 950ms\tremaining: 922ms\n",
            "241:\tlearn: 0.6273267\ttotal: 954ms\tremaining: 918ms\n",
            "242:\tlearn: 0.6272681\ttotal: 957ms\tremaining: 914ms\n",
            "243:\tlearn: 0.6271824\ttotal: 961ms\tremaining: 910ms\n",
            "244:\tlearn: 0.6270475\ttotal: 966ms\tremaining: 906ms\n",
            "245:\tlearn: 0.6269694\ttotal: 970ms\tremaining: 903ms\n",
            "246:\tlearn: 0.6269028\ttotal: 973ms\tremaining: 898ms\n",
            "247:\tlearn: 0.6268085\ttotal: 980ms\tremaining: 897ms\n",
            "248:\tlearn: 0.6266930\ttotal: 987ms\tremaining: 896ms\n",
            "249:\tlearn: 0.6264914\ttotal: 991ms\tremaining: 892ms\n",
            "250:\tlearn: 0.6264058\ttotal: 995ms\tremaining: 888ms\n",
            "251:\tlearn: 0.6262372\ttotal: 999ms\tremaining: 884ms\n",
            "252:\tlearn: 0.6260944\ttotal: 1s\tremaining: 880ms\n",
            "253:\tlearn: 0.6259953\ttotal: 1.01s\tremaining: 878ms\n",
            "254:\tlearn: 0.6258579\ttotal: 1.01s\tremaining: 874ms\n",
            "255:\tlearn: 0.6256475\ttotal: 1.02s\tremaining: 870ms\n",
            "256:\tlearn: 0.6255018\ttotal: 1.02s\tremaining: 865ms\n",
            "257:\tlearn: 0.6253639\ttotal: 1.02s\tremaining: 861ms\n",
            "258:\tlearn: 0.6252151\ttotal: 1.03s\tremaining: 857ms\n",
            "259:\tlearn: 0.6249625\ttotal: 1.03s\tremaining: 853ms\n",
            "260:\tlearn: 0.6248565\ttotal: 1.03s\tremaining: 848ms\n",
            "261:\tlearn: 0.6247968\ttotal: 1.04s\tremaining: 844ms\n",
            "262:\tlearn: 0.6246976\ttotal: 1.04s\tremaining: 840ms\n",
            "263:\tlearn: 0.6245402\ttotal: 1.04s\tremaining: 836ms\n",
            "264:\tlearn: 0.6244407\ttotal: 1.05s\tremaining: 832ms\n",
            "265:\tlearn: 0.6243608\ttotal: 1.05s\tremaining: 827ms\n",
            "266:\tlearn: 0.6241982\ttotal: 1.06s\tremaining: 823ms\n",
            "267:\tlearn: 0.6241363\ttotal: 1.06s\tremaining: 819ms\n",
            "268:\tlearn: 0.6240903\ttotal: 1.06s\tremaining: 815ms\n",
            "269:\tlearn: 0.6239567\ttotal: 1.07s\tremaining: 810ms\n",
            "270:\tlearn: 0.6238653\ttotal: 1.07s\tremaining: 806ms\n",
            "271:\tlearn: 0.6237487\ttotal: 1.07s\tremaining: 802ms\n",
            "272:\tlearn: 0.6236037\ttotal: 1.08s\tremaining: 798ms\n",
            "273:\tlearn: 0.6234530\ttotal: 1.08s\tremaining: 794ms\n",
            "274:\tlearn: 0.6233432\ttotal: 1.09s\tremaining: 790ms\n",
            "275:\tlearn: 0.6232598\ttotal: 1.09s\tremaining: 786ms\n",
            "276:\tlearn: 0.6230369\ttotal: 1.09s\tremaining: 782ms\n",
            "277:\tlearn: 0.6229231\ttotal: 1.1s\tremaining: 778ms\n",
            "278:\tlearn: 0.6228339\ttotal: 1.1s\tremaining: 774ms\n",
            "279:\tlearn: 0.6227531\ttotal: 1.1s\tremaining: 769ms\n",
            "280:\tlearn: 0.6225155\ttotal: 1.11s\tremaining: 765ms\n",
            "281:\tlearn: 0.6223968\ttotal: 1.11s\tremaining: 761ms\n",
            "282:\tlearn: 0.6222475\ttotal: 1.12s\tremaining: 757ms\n",
            "283:\tlearn: 0.6221154\ttotal: 1.12s\tremaining: 753ms\n",
            "284:\tlearn: 0.6219552\ttotal: 1.12s\tremaining: 749ms\n",
            "285:\tlearn: 0.6218566\ttotal: 1.13s\tremaining: 745ms\n",
            "286:\tlearn: 0.6216734\ttotal: 1.13s\tremaining: 741ms\n",
            "287:\tlearn: 0.6215356\ttotal: 1.13s\tremaining: 737ms\n",
            "288:\tlearn: 0.6214033\ttotal: 1.14s\tremaining: 733ms\n",
            "289:\tlearn: 0.6212899\ttotal: 1.14s\tremaining: 729ms\n",
            "290:\tlearn: 0.6211790\ttotal: 1.15s\tremaining: 724ms\n",
            "291:\tlearn: 0.6210356\ttotal: 1.15s\tremaining: 721ms\n",
            "292:\tlearn: 0.6209363\ttotal: 1.15s\tremaining: 717ms\n",
            "293:\tlearn: 0.6208360\ttotal: 1.16s\tremaining: 713ms\n",
            "294:\tlearn: 0.6207798\ttotal: 1.16s\tremaining: 709ms\n",
            "295:\tlearn: 0.6205956\ttotal: 1.17s\tremaining: 705ms\n",
            "296:\tlearn: 0.6204661\ttotal: 1.17s\tremaining: 701ms\n",
            "297:\tlearn: 0.6203323\ttotal: 1.17s\tremaining: 697ms\n",
            "298:\tlearn: 0.6202719\ttotal: 1.18s\tremaining: 692ms\n",
            "299:\tlearn: 0.6201251\ttotal: 1.18s\tremaining: 688ms\n",
            "300:\tlearn: 0.6199913\ttotal: 1.18s\tremaining: 685ms\n",
            "301:\tlearn: 0.6198893\ttotal: 1.19s\tremaining: 681ms\n",
            "302:\tlearn: 0.6198050\ttotal: 1.19s\tremaining: 677ms\n",
            "303:\tlearn: 0.6196615\ttotal: 1.2s\tremaining: 673ms\n",
            "304:\tlearn: 0.6195707\ttotal: 1.2s\tremaining: 669ms\n",
            "305:\tlearn: 0.6194355\ttotal: 1.21s\tremaining: 667ms\n",
            "306:\tlearn: 0.6193580\ttotal: 1.21s\tremaining: 663ms\n",
            "307:\tlearn: 0.6192810\ttotal: 1.22s\tremaining: 659ms\n",
            "308:\tlearn: 0.6191731\ttotal: 1.22s\tremaining: 655ms\n",
            "309:\tlearn: 0.6190955\ttotal: 1.22s\tremaining: 651ms\n",
            "310:\tlearn: 0.6189819\ttotal: 1.23s\tremaining: 647ms\n",
            "311:\tlearn: 0.6189273\ttotal: 1.23s\tremaining: 643ms\n",
            "312:\tlearn: 0.6187149\ttotal: 1.24s\tremaining: 639ms\n",
            "313:\tlearn: 0.6185924\ttotal: 1.24s\tremaining: 635ms\n",
            "314:\tlearn: 0.6184098\ttotal: 1.24s\tremaining: 631ms\n",
            "315:\tlearn: 0.6183113\ttotal: 1.25s\tremaining: 627ms\n",
            "316:\tlearn: 0.6181631\ttotal: 1.25s\tremaining: 623ms\n",
            "317:\tlearn: 0.6179865\ttotal: 1.25s\tremaining: 619ms\n",
            "318:\tlearn: 0.6178407\ttotal: 1.26s\tremaining: 615ms\n",
            "319:\tlearn: 0.6176126\ttotal: 1.26s\tremaining: 611ms\n",
            "320:\tlearn: 0.6174503\ttotal: 1.26s\tremaining: 607ms\n",
            "321:\tlearn: 0.6173138\ttotal: 1.27s\tremaining: 603ms\n",
            "322:\tlearn: 0.6172641\ttotal: 1.27s\tremaining: 599ms\n",
            "323:\tlearn: 0.6171928\ttotal: 1.28s\tremaining: 595ms\n",
            "324:\tlearn: 0.6170232\ttotal: 1.28s\tremaining: 591ms\n",
            "325:\tlearn: 0.6169570\ttotal: 1.28s\tremaining: 587ms\n",
            "326:\tlearn: 0.6166692\ttotal: 1.29s\tremaining: 583ms\n",
            "327:\tlearn: 0.6165091\ttotal: 1.29s\tremaining: 579ms\n",
            "328:\tlearn: 0.6164164\ttotal: 1.29s\tremaining: 575ms\n",
            "329:\tlearn: 0.6162608\ttotal: 1.3s\tremaining: 571ms\n",
            "330:\tlearn: 0.6161651\ttotal: 1.3s\tremaining: 567ms\n",
            "331:\tlearn: 0.6160859\ttotal: 1.31s\tremaining: 563ms\n",
            "332:\tlearn: 0.6159642\ttotal: 1.31s\tremaining: 559ms\n",
            "333:\tlearn: 0.6158668\ttotal: 1.31s\tremaining: 555ms\n",
            "334:\tlearn: 0.6158270\ttotal: 1.32s\tremaining: 551ms\n",
            "335:\tlearn: 0.6157260\ttotal: 1.32s\tremaining: 547ms\n",
            "336:\tlearn: 0.6155989\ttotal: 1.32s\tremaining: 543ms\n",
            "337:\tlearn: 0.6154590\ttotal: 1.33s\tremaining: 539ms\n",
            "338:\tlearn: 0.6153624\ttotal: 1.33s\tremaining: 535ms\n",
            "339:\tlearn: 0.6152055\ttotal: 1.34s\tremaining: 531ms\n",
            "340:\tlearn: 0.6151258\ttotal: 1.34s\tremaining: 527ms\n",
            "341:\tlearn: 0.6149956\ttotal: 1.34s\tremaining: 523ms\n",
            "342:\tlearn: 0.6149124\ttotal: 1.35s\tremaining: 519ms\n",
            "343:\tlearn: 0.6147239\ttotal: 1.35s\tremaining: 515ms\n",
            "344:\tlearn: 0.6146266\ttotal: 1.35s\tremaining: 511ms\n",
            "345:\tlearn: 0.6145608\ttotal: 1.36s\tremaining: 507ms\n",
            "346:\tlearn: 0.6144052\ttotal: 1.36s\tremaining: 503ms\n",
            "347:\tlearn: 0.6142957\ttotal: 1.37s\tremaining: 499ms\n",
            "348:\tlearn: 0.6141642\ttotal: 1.37s\tremaining: 495ms\n",
            "349:\tlearn: 0.6140530\ttotal: 1.37s\tremaining: 491ms\n",
            "350:\tlearn: 0.6139739\ttotal: 1.38s\tremaining: 487ms\n",
            "351:\tlearn: 0.6138721\ttotal: 1.38s\tremaining: 483ms\n",
            "352:\tlearn: 0.6137479\ttotal: 1.39s\tremaining: 479ms\n",
            "353:\tlearn: 0.6136166\ttotal: 1.39s\tremaining: 475ms\n",
            "354:\tlearn: 0.6134791\ttotal: 1.39s\tremaining: 471ms\n",
            "355:\tlearn: 0.6133896\ttotal: 1.4s\tremaining: 467ms\n",
            "356:\tlearn: 0.6133132\ttotal: 1.4s\tremaining: 463ms\n",
            "357:\tlearn: 0.6132182\ttotal: 1.41s\tremaining: 460ms\n",
            "358:\tlearn: 0.6131410\ttotal: 1.41s\tremaining: 456ms\n",
            "359:\tlearn: 0.6129724\ttotal: 1.42s\tremaining: 452ms\n",
            "360:\tlearn: 0.6129048\ttotal: 1.42s\tremaining: 448ms\n",
            "361:\tlearn: 0.6127063\ttotal: 1.42s\tremaining: 444ms\n",
            "362:\tlearn: 0.6126323\ttotal: 1.43s\tremaining: 440ms\n",
            "363:\tlearn: 0.6124162\ttotal: 1.43s\tremaining: 436ms\n",
            "364:\tlearn: 0.6122305\ttotal: 1.43s\tremaining: 432ms\n",
            "365:\tlearn: 0.6120746\ttotal: 1.44s\tremaining: 428ms\n",
            "366:\tlearn: 0.6119864\ttotal: 1.44s\tremaining: 424ms\n",
            "367:\tlearn: 0.6117650\ttotal: 1.45s\tremaining: 420ms\n",
            "368:\tlearn: 0.6116804\ttotal: 1.45s\tremaining: 416ms\n",
            "369:\tlearn: 0.6115586\ttotal: 1.45s\tremaining: 412ms\n",
            "370:\tlearn: 0.6114676\ttotal: 1.46s\tremaining: 408ms\n",
            "371:\tlearn: 0.6113041\ttotal: 1.46s\tremaining: 404ms\n",
            "372:\tlearn: 0.6111142\ttotal: 1.46s\tremaining: 401ms\n",
            "373:\tlearn: 0.6109993\ttotal: 1.47s\tremaining: 397ms\n",
            "374:\tlearn: 0.6109033\ttotal: 1.47s\tremaining: 393ms\n",
            "375:\tlearn: 0.6107860\ttotal: 1.48s\tremaining: 389ms\n",
            "376:\tlearn: 0.6106087\ttotal: 1.48s\tremaining: 385ms\n",
            "377:\tlearn: 0.6104486\ttotal: 1.48s\tremaining: 381ms\n",
            "378:\tlearn: 0.6102425\ttotal: 1.49s\tremaining: 377ms\n",
            "379:\tlearn: 0.6100121\ttotal: 1.49s\tremaining: 373ms\n",
            "380:\tlearn: 0.6098931\ttotal: 1.5s\tremaining: 369ms\n",
            "381:\tlearn: 0.6098111\ttotal: 1.5s\tremaining: 365ms\n",
            "382:\tlearn: 0.6096924\ttotal: 1.5s\tremaining: 361ms\n",
            "383:\tlearn: 0.6096327\ttotal: 1.51s\tremaining: 357ms\n",
            "384:\tlearn: 0.6095641\ttotal: 1.51s\tremaining: 353ms\n",
            "385:\tlearn: 0.6094406\ttotal: 1.51s\tremaining: 349ms\n",
            "386:\tlearn: 0.6093617\ttotal: 1.52s\tremaining: 345ms\n",
            "387:\tlearn: 0.6092482\ttotal: 1.52s\tremaining: 341ms\n",
            "388:\tlearn: 0.6091721\ttotal: 1.52s\tremaining: 337ms\n",
            "389:\tlearn: 0.6091026\ttotal: 1.53s\tremaining: 333ms\n",
            "390:\tlearn: 0.6089677\ttotal: 1.53s\tremaining: 329ms\n",
            "391:\tlearn: 0.6088644\ttotal: 1.53s\tremaining: 325ms\n",
            "392:\tlearn: 0.6087781\ttotal: 1.54s\tremaining: 321ms\n",
            "393:\tlearn: 0.6086313\ttotal: 1.54s\tremaining: 317ms\n",
            "394:\tlearn: 0.6085676\ttotal: 1.55s\tremaining: 313ms\n",
            "395:\tlearn: 0.6084834\ttotal: 1.55s\tremaining: 309ms\n",
            "396:\tlearn: 0.6084017\ttotal: 1.55s\tremaining: 305ms\n",
            "397:\tlearn: 0.6083442\ttotal: 1.56s\tremaining: 301ms\n",
            "398:\tlearn: 0.6082528\ttotal: 1.56s\tremaining: 297ms\n",
            "399:\tlearn: 0.6081380\ttotal: 1.56s\tremaining: 293ms\n",
            "400:\tlearn: 0.6080026\ttotal: 1.57s\tremaining: 289ms\n",
            "401:\tlearn: 0.6078781\ttotal: 1.57s\tremaining: 285ms\n",
            "402:\tlearn: 0.6078221\ttotal: 1.57s\tremaining: 282ms\n",
            "403:\tlearn: 0.6077329\ttotal: 1.58s\tremaining: 279ms\n",
            "404:\tlearn: 0.6075925\ttotal: 1.59s\tremaining: 275ms\n",
            "405:\tlearn: 0.6075012\ttotal: 1.59s\tremaining: 271ms\n",
            "406:\tlearn: 0.6074578\ttotal: 1.6s\tremaining: 267ms\n",
            "407:\tlearn: 0.6074270\ttotal: 1.6s\tremaining: 263ms\n",
            "408:\tlearn: 0.6073360\ttotal: 1.61s\tremaining: 260ms\n",
            "409:\tlearn: 0.6072176\ttotal: 1.61s\tremaining: 256ms\n",
            "410:\tlearn: 0.6070331\ttotal: 1.62s\tremaining: 252ms\n",
            "411:\tlearn: 0.6070034\ttotal: 1.62s\tremaining: 248ms\n",
            "412:\tlearn: 0.6069089\ttotal: 1.63s\tremaining: 244ms\n",
            "413:\tlearn: 0.6067164\ttotal: 1.63s\tremaining: 240ms\n",
            "414:\tlearn: 0.6066316\ttotal: 1.63s\tremaining: 236ms\n",
            "415:\tlearn: 0.6065953\ttotal: 1.64s\tremaining: 232ms\n",
            "416:\tlearn: 0.6065223\ttotal: 1.64s\tremaining: 228ms\n",
            "417:\tlearn: 0.6064120\ttotal: 1.65s\tremaining: 224ms\n",
            "418:\tlearn: 0.6062808\ttotal: 1.65s\tremaining: 220ms\n",
            "419:\tlearn: 0.6061707\ttotal: 1.65s\tremaining: 216ms\n",
            "420:\tlearn: 0.6060920\ttotal: 1.66s\tremaining: 212ms\n",
            "421:\tlearn: 0.6060047\ttotal: 1.66s\tremaining: 208ms\n",
            "422:\tlearn: 0.6058946\ttotal: 1.66s\tremaining: 205ms\n",
            "423:\tlearn: 0.6058210\ttotal: 1.67s\tremaining: 201ms\n",
            "424:\tlearn: 0.6057217\ttotal: 1.67s\tremaining: 197ms\n",
            "425:\tlearn: 0.6055252\ttotal: 1.68s\tremaining: 193ms\n",
            "426:\tlearn: 0.6054272\ttotal: 1.68s\tremaining: 189ms\n",
            "427:\tlearn: 0.6053479\ttotal: 1.69s\tremaining: 186ms\n",
            "428:\tlearn: 0.6052384\ttotal: 1.7s\tremaining: 182ms\n",
            "429:\tlearn: 0.6050867\ttotal: 1.7s\tremaining: 178ms\n",
            "430:\tlearn: 0.6049122\ttotal: 1.7s\tremaining: 174ms\n",
            "431:\tlearn: 0.6047711\ttotal: 1.71s\tremaining: 170ms\n",
            "432:\tlearn: 0.6045890\ttotal: 1.71s\tremaining: 166ms\n",
            "433:\tlearn: 0.6045247\ttotal: 1.71s\tremaining: 162ms\n",
            "434:\tlearn: 0.6044547\ttotal: 1.72s\tremaining: 158ms\n",
            "435:\tlearn: 0.6043657\ttotal: 1.72s\tremaining: 154ms\n",
            "436:\tlearn: 0.6042287\ttotal: 1.73s\tremaining: 150ms\n",
            "437:\tlearn: 0.6041988\ttotal: 1.73s\tremaining: 146ms\n",
            "438:\tlearn: 0.6040730\ttotal: 1.73s\tremaining: 142ms\n",
            "439:\tlearn: 0.6040223\ttotal: 1.74s\tremaining: 138ms\n",
            "440:\tlearn: 0.6039660\ttotal: 1.74s\tremaining: 134ms\n",
            "441:\tlearn: 0.6038362\ttotal: 1.74s\tremaining: 130ms\n",
            "442:\tlearn: 0.6036867\ttotal: 1.75s\tremaining: 126ms\n",
            "443:\tlearn: 0.6035721\ttotal: 1.75s\tremaining: 122ms\n",
            "444:\tlearn: 0.6035008\ttotal: 1.75s\tremaining: 118ms\n",
            "445:\tlearn: 0.6034043\ttotal: 1.76s\tremaining: 114ms\n",
            "446:\tlearn: 0.6033159\ttotal: 1.76s\tremaining: 110ms\n",
            "447:\tlearn: 0.6032416\ttotal: 1.77s\tremaining: 107ms\n",
            "448:\tlearn: 0.6031487\ttotal: 1.77s\tremaining: 103ms\n",
            "449:\tlearn: 0.6031026\ttotal: 1.77s\tremaining: 98.6ms\n",
            "450:\tlearn: 0.6030179\ttotal: 1.78s\tremaining: 94.7ms\n",
            "451:\tlearn: 0.6028713\ttotal: 1.78s\tremaining: 90.7ms\n",
            "452:\tlearn: 0.6026820\ttotal: 1.79s\tremaining: 86.8ms\n",
            "453:\tlearn: 0.6025748\ttotal: 1.79s\tremaining: 82.8ms\n",
            "454:\tlearn: 0.6024479\ttotal: 1.79s\tremaining: 78.9ms\n",
            "455:\tlearn: 0.6023583\ttotal: 1.8s\tremaining: 74.9ms\n",
            "456:\tlearn: 0.6021801\ttotal: 1.8s\tremaining: 71ms\n",
            "457:\tlearn: 0.6020800\ttotal: 1.81s\tremaining: 67.1ms\n",
            "458:\tlearn: 0.6019356\ttotal: 1.81s\tremaining: 63.2ms\n",
            "459:\tlearn: 0.6018402\ttotal: 1.82s\tremaining: 59.2ms\n",
            "460:\tlearn: 0.6017907\ttotal: 1.82s\tremaining: 55.3ms\n",
            "461:\tlearn: 0.6016486\ttotal: 1.82s\tremaining: 51.3ms\n",
            "462:\tlearn: 0.6015761\ttotal: 1.83s\tremaining: 47.4ms\n",
            "463:\tlearn: 0.6015145\ttotal: 1.83s\tremaining: 43.4ms\n",
            "464:\tlearn: 0.6014607\ttotal: 1.83s\tremaining: 39.5ms\n",
            "465:\tlearn: 0.6013321\ttotal: 1.84s\tremaining: 35.6ms\n",
            "466:\tlearn: 0.6012416\ttotal: 1.84s\tremaining: 31.6ms\n",
            "467:\tlearn: 0.6011681\ttotal: 1.85s\tremaining: 27.7ms\n",
            "468:\tlearn: 0.6009795\ttotal: 1.85s\tremaining: 23.7ms\n",
            "469:\tlearn: 0.6009080\ttotal: 1.86s\tremaining: 19.8ms\n",
            "470:\tlearn: 0.6007735\ttotal: 1.86s\tremaining: 15.8ms\n",
            "471:\tlearn: 0.6006876\ttotal: 1.86s\tremaining: 11.9ms\n",
            "472:\tlearn: 0.6006300\ttotal: 1.87s\tremaining: 7.9ms\n",
            "473:\tlearn: 0.6005465\ttotal: 1.88s\tremaining: 3.96ms\n",
            "474:\tlearn: 0.6004633\ttotal: 1.88s\tremaining: 0us\n"
          ]
        },
        {
          "output_type": "execute_result",
          "data": {
            "text/plain": [
              "VotingClassifier(estimators=[('En3',\n",
              "                              VotingClassifier(estimators=[('En2  ',\n",
              "                                                            VotingClassifier(estimators=[('En1',\n",
              "                                                                                          VotingClassifier(estimators=[('RFC',\n",
              "                                                                                                                        RandomForestClassifier()),\n",
              "                                                                                                                       ('KNN',\n",
              "                                                                                                                        KNeighborsClassifier(metric='manhattan',\n",
              "                                                                                                                                             n_neighbors=120,\n",
              "                                                                                                                                             weights='distance'))],\n",
              "                                                                                                           voting='soft',\n",
              "                                                                                                           weights=[1,\n",
              "                                                                                                                    1])),\n",
              "                                                                                         ('SVM',\n",
              "                                                                                          SVC(C=7,\n",
              "                                                                                              degree=1,\n",
              "                                                                                              probability=True))],\n",
              "                                                                             voting='soft',\n",
              "                                                                             weights...\n",
              "                                                                          max_cat_threshold=None,\n",
              "                                                                          max_cat_to_onehot=None,\n",
              "                                                                          max_delta_step=None,\n",
              "                                                                          max_depth=8,\n",
              "                                                                          max_leaves=None,\n",
              "                                                                          min_child_weight=1,\n",
              "                                                                          missing=nan,\n",
              "                                                                          monotone_constraints=None,\n",
              "                                                                          n_estimators=56,\n",
              "                                                                          n_jobs=None,\n",
              "                                                                          num_parallel_tree=None,\n",
              "                                                                          predictor=None,\n",
              "                                                                          random_state=None, ...))],\n",
              "                                               voting='soft', weights=[1, 1])),\n",
              "                             ('CAT',\n",
              "                              <catboost.core.CatBoostClassifier object at 0x7f78aee4bf40>)],\n",
              "                 voting='soft', weights=[1, 1])"
            ],
            "text/html": [
              "<style>#sk-container-id-4 {color: black;background-color: white;}#sk-container-id-4 pre{padding: 0;}#sk-container-id-4 div.sk-toggleable {background-color: white;}#sk-container-id-4 label.sk-toggleable__label {cursor: pointer;display: block;width: 100%;margin-bottom: 0;padding: 0.3em;box-sizing: border-box;text-align: center;}#sk-container-id-4 label.sk-toggleable__label-arrow:before {content: \"▸\";float: left;margin-right: 0.25em;color: #696969;}#sk-container-id-4 label.sk-toggleable__label-arrow:hover:before {color: black;}#sk-container-id-4 div.sk-estimator:hover label.sk-toggleable__label-arrow:before {color: black;}#sk-container-id-4 div.sk-toggleable__content {max-height: 0;max-width: 0;overflow: hidden;text-align: left;background-color: #f0f8ff;}#sk-container-id-4 div.sk-toggleable__content pre {margin: 0.2em;color: black;border-radius: 0.25em;background-color: #f0f8ff;}#sk-container-id-4 input.sk-toggleable__control:checked~div.sk-toggleable__content {max-height: 200px;max-width: 100%;overflow: auto;}#sk-container-id-4 input.sk-toggleable__control:checked~label.sk-toggleable__label-arrow:before {content: \"▾\";}#sk-container-id-4 div.sk-estimator input.sk-toggleable__control:checked~label.sk-toggleable__label {background-color: #d4ebff;}#sk-container-id-4 div.sk-label input.sk-toggleable__control:checked~label.sk-toggleable__label {background-color: #d4ebff;}#sk-container-id-4 input.sk-hidden--visually {border: 0;clip: rect(1px 1px 1px 1px);clip: rect(1px, 1px, 1px, 1px);height: 1px;margin: -1px;overflow: hidden;padding: 0;position: absolute;width: 1px;}#sk-container-id-4 div.sk-estimator {font-family: monospace;background-color: #f0f8ff;border: 1px dotted black;border-radius: 0.25em;box-sizing: border-box;margin-bottom: 0.5em;}#sk-container-id-4 div.sk-estimator:hover {background-color: #d4ebff;}#sk-container-id-4 div.sk-parallel-item::after {content: \"\";width: 100%;border-bottom: 1px solid gray;flex-grow: 1;}#sk-container-id-4 div.sk-label:hover label.sk-toggleable__label {background-color: #d4ebff;}#sk-container-id-4 div.sk-serial::before {content: \"\";position: absolute;border-left: 1px solid gray;box-sizing: border-box;top: 0;bottom: 0;left: 50%;z-index: 0;}#sk-container-id-4 div.sk-serial {display: flex;flex-direction: column;align-items: center;background-color: white;padding-right: 0.2em;padding-left: 0.2em;position: relative;}#sk-container-id-4 div.sk-item {position: relative;z-index: 1;}#sk-container-id-4 div.sk-parallel {display: flex;align-items: stretch;justify-content: center;background-color: white;position: relative;}#sk-container-id-4 div.sk-item::before, #sk-container-id-4 div.sk-parallel-item::before {content: \"\";position: absolute;border-left: 1px solid gray;box-sizing: border-box;top: 0;bottom: 0;left: 50%;z-index: -1;}#sk-container-id-4 div.sk-parallel-item {display: flex;flex-direction: column;z-index: 1;position: relative;background-color: white;}#sk-container-id-4 div.sk-parallel-item:first-child::after {align-self: flex-end;width: 50%;}#sk-container-id-4 div.sk-parallel-item:last-child::after {align-self: flex-start;width: 50%;}#sk-container-id-4 div.sk-parallel-item:only-child::after {width: 0;}#sk-container-id-4 div.sk-dashed-wrapped {border: 1px dashed gray;margin: 0 0.4em 0.5em 0.4em;box-sizing: border-box;padding-bottom: 0.4em;background-color: white;}#sk-container-id-4 div.sk-label label {font-family: monospace;font-weight: bold;display: inline-block;line-height: 1.2em;}#sk-container-id-4 div.sk-label-container {text-align: center;}#sk-container-id-4 div.sk-container {/* jupyter's `normalize.less` sets `[hidden] { display: none; }` but bootstrap.min.css set `[hidden] { display: none !important; }` so we also need the `!important` here to be able to override the default hidden behavior on the sphinx rendered scikit-learn.org. See: https://github.com/scikit-learn/scikit-learn/issues/21755 */display: inline-block !important;position: relative;}#sk-container-id-4 div.sk-text-repr-fallback {display: none;}</style><div id=\"sk-container-id-4\" class=\"sk-top-container\"><div class=\"sk-text-repr-fallback\"><pre>VotingClassifier(estimators=[(&#x27;En3&#x27;,\n",
              "                              VotingClassifier(estimators=[(&#x27;En2  &#x27;,\n",
              "                                                            VotingClassifier(estimators=[(&#x27;En1&#x27;,\n",
              "                                                                                          VotingClassifier(estimators=[(&#x27;RFC&#x27;,\n",
              "                                                                                                                        RandomForestClassifier()),\n",
              "                                                                                                                       (&#x27;KNN&#x27;,\n",
              "                                                                                                                        KNeighborsClassifier(metric=&#x27;manhattan&#x27;,\n",
              "                                                                                                                                             n_neighbors=120,\n",
              "                                                                                                                                             weights=&#x27;distance&#x27;))],\n",
              "                                                                                                           voting=&#x27;soft&#x27;,\n",
              "                                                                                                           weights=[1,\n",
              "                                                                                                                    1])),\n",
              "                                                                                         (&#x27;SVM&#x27;,\n",
              "                                                                                          SVC(C=7,\n",
              "                                                                                              degree=1,\n",
              "                                                                                              probability=True))],\n",
              "                                                                             voting=&#x27;soft&#x27;,\n",
              "                                                                             weights...\n",
              "                                                                          max_cat_threshold=None,\n",
              "                                                                          max_cat_to_onehot=None,\n",
              "                                                                          max_delta_step=None,\n",
              "                                                                          max_depth=8,\n",
              "                                                                          max_leaves=None,\n",
              "                                                                          min_child_weight=1,\n",
              "                                                                          missing=nan,\n",
              "                                                                          monotone_constraints=None,\n",
              "                                                                          n_estimators=56,\n",
              "                                                                          n_jobs=None,\n",
              "                                                                          num_parallel_tree=None,\n",
              "                                                                          predictor=None,\n",
              "                                                                          random_state=None, ...))],\n",
              "                                               voting=&#x27;soft&#x27;, weights=[1, 1])),\n",
              "                             (&#x27;CAT&#x27;,\n",
              "                              &lt;catboost.core.CatBoostClassifier object at 0x7f78aee4bf40&gt;)],\n",
              "                 voting=&#x27;soft&#x27;, weights=[1, 1])</pre><b>In a Jupyter environment, please rerun this cell to show the HTML representation or trust the notebook. <br />On GitHub, the HTML representation is unable to render, please try loading this page with nbviewer.org.</b></div><div class=\"sk-container\" hidden><div class=\"sk-item sk-dashed-wrapped\"><div class=\"sk-label-container\"><div class=\"sk-label sk-toggleable\"><input class=\"sk-toggleable__control sk-hidden--visually\" id=\"sk-estimator-id-13\" type=\"checkbox\" ><label for=\"sk-estimator-id-13\" class=\"sk-toggleable__label sk-toggleable__label-arrow\">VotingClassifier</label><div class=\"sk-toggleable__content\"><pre>VotingClassifier(estimators=[(&#x27;En3&#x27;,\n",
              "                              VotingClassifier(estimators=[(&#x27;En2  &#x27;,\n",
              "                                                            VotingClassifier(estimators=[(&#x27;En1&#x27;,\n",
              "                                                                                          VotingClassifier(estimators=[(&#x27;RFC&#x27;,\n",
              "                                                                                                                        RandomForestClassifier()),\n",
              "                                                                                                                       (&#x27;KNN&#x27;,\n",
              "                                                                                                                        KNeighborsClassifier(metric=&#x27;manhattan&#x27;,\n",
              "                                                                                                                                             n_neighbors=120,\n",
              "                                                                                                                                             weights=&#x27;distance&#x27;))],\n",
              "                                                                                                           voting=&#x27;soft&#x27;,\n",
              "                                                                                                           weights=[1,\n",
              "                                                                                                                    1])),\n",
              "                                                                                         (&#x27;SVM&#x27;,\n",
              "                                                                                          SVC(C=7,\n",
              "                                                                                              degree=1,\n",
              "                                                                                              probability=True))],\n",
              "                                                                             voting=&#x27;soft&#x27;,\n",
              "                                                                             weights...\n",
              "                                                                          max_cat_threshold=None,\n",
              "                                                                          max_cat_to_onehot=None,\n",
              "                                                                          max_delta_step=None,\n",
              "                                                                          max_depth=8,\n",
              "                                                                          max_leaves=None,\n",
              "                                                                          min_child_weight=1,\n",
              "                                                                          missing=nan,\n",
              "                                                                          monotone_constraints=None,\n",
              "                                                                          n_estimators=56,\n",
              "                                                                          n_jobs=None,\n",
              "                                                                          num_parallel_tree=None,\n",
              "                                                                          predictor=None,\n",
              "                                                                          random_state=None, ...))],\n",
              "                                               voting=&#x27;soft&#x27;, weights=[1, 1])),\n",
              "                             (&#x27;CAT&#x27;,\n",
              "                              &lt;catboost.core.CatBoostClassifier object at 0x7f78aee4bf40&gt;)],\n",
              "                 voting=&#x27;soft&#x27;, weights=[1, 1])</pre></div></div></div><div class=\"sk-parallel\"><div class=\"sk-parallel-item\"><div class=\"sk-item\"><div class=\"sk-label-container\"><div class=\"sk-label sk-toggleable\"><label>En3</label></div></div><div class=\"sk-serial\"><div class=\"sk-item sk-dashed-wrapped\"><div class=\"sk-parallel\"><div class=\"sk-parallel-item\"><div class=\"sk-item\"><div class=\"sk-label-container\"><div class=\"sk-label sk-toggleable\"><label>En2  </label></div></div><div class=\"sk-serial\"><div class=\"sk-item sk-dashed-wrapped\"><div class=\"sk-parallel\"><div class=\"sk-parallel-item\"><div class=\"sk-item\"><div class=\"sk-label-container\"><div class=\"sk-label sk-toggleable\"><label>En1</label></div></div><div class=\"sk-serial\"><div class=\"sk-item sk-dashed-wrapped\"><div class=\"sk-parallel\"><div class=\"sk-parallel-item\"><div class=\"sk-item\"><div class=\"sk-label-container\"><div class=\"sk-label sk-toggleable\"><label>RFC</label></div></div><div class=\"sk-serial\"><div class=\"sk-item\"><div class=\"sk-estimator sk-toggleable\"><input class=\"sk-toggleable__control sk-hidden--visually\" id=\"sk-estimator-id-14\" type=\"checkbox\" ><label for=\"sk-estimator-id-14\" class=\"sk-toggleable__label sk-toggleable__label-arrow\">RandomForestClassifier</label><div class=\"sk-toggleable__content\"><pre>RandomForestClassifier()</pre></div></div></div></div></div></div><div class=\"sk-parallel-item\"><div class=\"sk-item\"><div class=\"sk-label-container\"><div class=\"sk-label sk-toggleable\"><label>KNN</label></div></div><div class=\"sk-serial\"><div class=\"sk-item\"><div class=\"sk-estimator sk-toggleable\"><input class=\"sk-toggleable__control sk-hidden--visually\" id=\"sk-estimator-id-15\" type=\"checkbox\" ><label for=\"sk-estimator-id-15\" class=\"sk-toggleable__label sk-toggleable__label-arrow\">KNeighborsClassifier</label><div class=\"sk-toggleable__content\"><pre>KNeighborsClassifier(metric=&#x27;manhattan&#x27;, n_neighbors=120, weights=&#x27;distance&#x27;)</pre></div></div></div></div></div></div></div></div></div></div></div><div class=\"sk-parallel-item\"><div class=\"sk-item\"><div class=\"sk-label-container\"><div class=\"sk-label sk-toggleable\"><label>SVM</label></div></div><div class=\"sk-serial\"><div class=\"sk-item\"><div class=\"sk-estimator sk-toggleable\"><input class=\"sk-toggleable__control sk-hidden--visually\" id=\"sk-estimator-id-16\" type=\"checkbox\" ><label for=\"sk-estimator-id-16\" class=\"sk-toggleable__label sk-toggleable__label-arrow\">SVC</label><div class=\"sk-toggleable__content\"><pre>SVC(C=7, degree=1, probability=True)</pre></div></div></div></div></div></div></div></div></div></div></div><div class=\"sk-parallel-item\"><div class=\"sk-item\"><div class=\"sk-label-container\"><div class=\"sk-label sk-toggleable\"><label>XGBoost</label></div></div><div class=\"sk-serial\"><div class=\"sk-item\"><div class=\"sk-estimator sk-toggleable\"><input class=\"sk-toggleable__control sk-hidden--visually\" id=\"sk-estimator-id-17\" type=\"checkbox\" ><label for=\"sk-estimator-id-17\" class=\"sk-toggleable__label sk-toggleable__label-arrow\">XGBClassifier</label><div class=\"sk-toggleable__content\"><pre>XGBClassifier(base_score=None, booster=None, callbacks=None,\n",
              "              colsample_bylevel=None, colsample_bynode=None,\n",
              "              colsample_bytree=0.6611955891759931, early_stopping_rounds=None,\n",
              "              enable_categorical=False, eval_metric=None, feature_types=None,\n",
              "              gamma=0.000187637803120415, gpu_id=None, grow_policy=None,\n",
              "              importance_type=None, interaction_constraints=None,\n",
              "              learning_rate=0.01998551759493316, max_bin=None,\n",
              "              max_cat_threshold=None, max_cat_to_onehot=None,\n",
              "              max_delta_step=None, max_depth=8, max_leaves=None,\n",
              "              min_child_weight=1, missing=nan, monotone_constraints=None,\n",
              "              n_estimators=56, n_jobs=None, num_parallel_tree=None,\n",
              "              predictor=None, random_state=None, ...)</pre></div></div></div></div></div></div></div></div></div></div></div><div class=\"sk-parallel-item\"><div class=\"sk-item\"><div class=\"sk-label-container\"><div class=\"sk-label sk-toggleable\"><label>CAT</label></div></div><div class=\"sk-serial\"><div class=\"sk-item\"><div class=\"sk-estimator sk-toggleable\"><input class=\"sk-toggleable__control sk-hidden--visually\" id=\"sk-estimator-id-18\" type=\"checkbox\" ><label for=\"sk-estimator-id-18\" class=\"sk-toggleable__label sk-toggleable__label-arrow\">CatBoostClassifier</label><div class=\"sk-toggleable__content\"><pre>&lt;catboost.core.CatBoostClassifier object at 0x7f78aee4bf40&gt;</pre></div></div></div></div></div></div></div></div></div></div>"
            ]
          },
          "metadata": {},
          "execution_count": 22
        }
      ]
    },
    {
      "cell_type": "code",
      "source": [
        "print(f'The accuracy score for the testing dataset is {est_Ensemble4.score(X_tes1, y_test1):.5f}')"
      ],
      "metadata": {
        "id": "2f5BtW9wngsQ",
        "outputId": "59da4eab-1aa7-4ba6-e28f-20d0a384189a",
        "colab": {
          "base_uri": "https://localhost:8080/"
        }
      },
      "execution_count": null,
      "outputs": [
        {
          "output_type": "stream",
          "name": "stdout",
          "text": [
            "The accuracy score for the testing dataset is 0.58117\n"
          ]
        }
      ]
    },
    {
      "cell_type": "code",
      "source": [
        "est_ada = ada\n",
        "\n",
        "est_Ensemble5 = VotingClassifier(estimators=[('En3', est_Ensemble4), ('ada', est_ada)],\n",
        "                        voting='soft',\n",
        "                        weights=[1, 1])\n",
        "est_Ensemble5.fit(X_trs1,y_train1)"
      ],
      "metadata": {
        "colab": {
          "base_uri": "https://localhost:8080/",
          "height": 300
        },
        "id": "u0I9NG4dSIVG",
        "outputId": "375623ef-1a5e-4ffb-ac72-135bdc678911"
      },
      "execution_count": null,
      "outputs": [
        {
          "output_type": "stream",
          "name": "stderr",
          "text": [
            "/usr/local/lib/python3.10/dist-packages/sklearn/preprocessing/_label.py:99: DataConversionWarning: A column-vector y was passed when a 1d array was expected. Please change the shape of y to (n_samples, ), for example using ravel().\n",
            "  y = column_or_1d(y, warn=True)\n",
            "/usr/local/lib/python3.10/dist-packages/sklearn/preprocessing/_label.py:134: DataConversionWarning: A column-vector y was passed when a 1d array was expected. Please change the shape of y to (n_samples, ), for example using ravel().\n",
            "  y = column_or_1d(y, dtype=self.classes_.dtype, warn=True)\n"
          ]
        },
        {
          "output_type": "execute_result",
          "data": {
            "text/plain": [
              "VotingClassifier(estimators=[('En3',\n",
              "                              VotingClassifier(estimators=[('En3',\n",
              "                                                            VotingClassifier(estimators=[('En1',\n",
              "                                                                                          VotingClassifier(estimators=[('KNN',\n",
              "                                                                                                                        KNeighborsClassifier()),\n",
              "                                                                                                                       ('XG',\n",
              "                                                                                                                        XGBClassifier(base_score=None,\n",
              "                                                                                                                                      booster=None,\n",
              "                                                                                                                                      callbacks=None,\n",
              "                                                                                                                                      colsample_bylevel=None,\n",
              "                                                                                                                                      colsample_bynode=None,\n",
              "                                                                                                                                      colsample_bytree=None,\n",
              "                                                                                                                                      early_stopping_rounds=None,\n",
              "                                                                                                                                      enable_categorical=False...\n",
              "                                                                                                                                      monotone_constraints=None,\n",
              "                                                                                                                                      n_estimators=100,\n",
              "                                                                                                                                      n_jobs=None,\n",
              "                                                                                                                                      num_parallel_tree=None,\n",
              "                                                                                                                                      predictor=None,\n",
              "                                                                                                                                      random_state=None, ...))],\n",
              "                                                                                                           voting='soft',\n",
              "                                                                                                           weights=[1,\n",
              "                                                                                                                    1])),\n",
              "                                                                                         ('RFC',\n",
              "                                                                                          RandomForestClassifier())],\n",
              "                                                                             voting='soft',\n",
              "                                                                             weights=[1,\n",
              "                                                                                      1])),\n",
              "                                                           ('RF',\n",
              "                                                            RandomForestClassifier())],\n",
              "                                               voting='soft', weights=[1, 1])),\n",
              "                             ('ada',\n",
              "                              AdaBoostClassifier(n_estimators=100,\n",
              "                                                 random_state=0))],\n",
              "                 voting='soft', weights=[1, 1])"
            ],
            "text/html": [
              "<style>#sk-container-id-5 {color: black;background-color: white;}#sk-container-id-5 pre{padding: 0;}#sk-container-id-5 div.sk-toggleable {background-color: white;}#sk-container-id-5 label.sk-toggleable__label {cursor: pointer;display: block;width: 100%;margin-bottom: 0;padding: 0.3em;box-sizing: border-box;text-align: center;}#sk-container-id-5 label.sk-toggleable__label-arrow:before {content: \"▸\";float: left;margin-right: 0.25em;color: #696969;}#sk-container-id-5 label.sk-toggleable__label-arrow:hover:before {color: black;}#sk-container-id-5 div.sk-estimator:hover label.sk-toggleable__label-arrow:before {color: black;}#sk-container-id-5 div.sk-toggleable__content {max-height: 0;max-width: 0;overflow: hidden;text-align: left;background-color: #f0f8ff;}#sk-container-id-5 div.sk-toggleable__content pre {margin: 0.2em;color: black;border-radius: 0.25em;background-color: #f0f8ff;}#sk-container-id-5 input.sk-toggleable__control:checked~div.sk-toggleable__content {max-height: 200px;max-width: 100%;overflow: auto;}#sk-container-id-5 input.sk-toggleable__control:checked~label.sk-toggleable__label-arrow:before {content: \"▾\";}#sk-container-id-5 div.sk-estimator input.sk-toggleable__control:checked~label.sk-toggleable__label {background-color: #d4ebff;}#sk-container-id-5 div.sk-label input.sk-toggleable__control:checked~label.sk-toggleable__label {background-color: #d4ebff;}#sk-container-id-5 input.sk-hidden--visually {border: 0;clip: rect(1px 1px 1px 1px);clip: rect(1px, 1px, 1px, 1px);height: 1px;margin: -1px;overflow: hidden;padding: 0;position: absolute;width: 1px;}#sk-container-id-5 div.sk-estimator {font-family: monospace;background-color: #f0f8ff;border: 1px dotted black;border-radius: 0.25em;box-sizing: border-box;margin-bottom: 0.5em;}#sk-container-id-5 div.sk-estimator:hover {background-color: #d4ebff;}#sk-container-id-5 div.sk-parallel-item::after {content: \"\";width: 100%;border-bottom: 1px solid gray;flex-grow: 1;}#sk-container-id-5 div.sk-label:hover label.sk-toggleable__label {background-color: #d4ebff;}#sk-container-id-5 div.sk-serial::before {content: \"\";position: absolute;border-left: 1px solid gray;box-sizing: border-box;top: 0;bottom: 0;left: 50%;z-index: 0;}#sk-container-id-5 div.sk-serial {display: flex;flex-direction: column;align-items: center;background-color: white;padding-right: 0.2em;padding-left: 0.2em;position: relative;}#sk-container-id-5 div.sk-item {position: relative;z-index: 1;}#sk-container-id-5 div.sk-parallel {display: flex;align-items: stretch;justify-content: center;background-color: white;position: relative;}#sk-container-id-5 div.sk-item::before, #sk-container-id-5 div.sk-parallel-item::before {content: \"\";position: absolute;border-left: 1px solid gray;box-sizing: border-box;top: 0;bottom: 0;left: 50%;z-index: -1;}#sk-container-id-5 div.sk-parallel-item {display: flex;flex-direction: column;z-index: 1;position: relative;background-color: white;}#sk-container-id-5 div.sk-parallel-item:first-child::after {align-self: flex-end;width: 50%;}#sk-container-id-5 div.sk-parallel-item:last-child::after {align-self: flex-start;width: 50%;}#sk-container-id-5 div.sk-parallel-item:only-child::after {width: 0;}#sk-container-id-5 div.sk-dashed-wrapped {border: 1px dashed gray;margin: 0 0.4em 0.5em 0.4em;box-sizing: border-box;padding-bottom: 0.4em;background-color: white;}#sk-container-id-5 div.sk-label label {font-family: monospace;font-weight: bold;display: inline-block;line-height: 1.2em;}#sk-container-id-5 div.sk-label-container {text-align: center;}#sk-container-id-5 div.sk-container {/* jupyter's `normalize.less` sets `[hidden] { display: none; }` but bootstrap.min.css set `[hidden] { display: none !important; }` so we also need the `!important` here to be able to override the default hidden behavior on the sphinx rendered scikit-learn.org. See: https://github.com/scikit-learn/scikit-learn/issues/21755 */display: inline-block !important;position: relative;}#sk-container-id-5 div.sk-text-repr-fallback {display: none;}</style><div id=\"sk-container-id-5\" class=\"sk-top-container\"><div class=\"sk-text-repr-fallback\"><pre>VotingClassifier(estimators=[(&#x27;En3&#x27;,\n",
              "                              VotingClassifier(estimators=[(&#x27;En3&#x27;,\n",
              "                                                            VotingClassifier(estimators=[(&#x27;En1&#x27;,\n",
              "                                                                                          VotingClassifier(estimators=[(&#x27;KNN&#x27;,\n",
              "                                                                                                                        KNeighborsClassifier()),\n",
              "                                                                                                                       (&#x27;XG&#x27;,\n",
              "                                                                                                                        XGBClassifier(base_score=None,\n",
              "                                                                                                                                      booster=None,\n",
              "                                                                                                                                      callbacks=None,\n",
              "                                                                                                                                      colsample_bylevel=None,\n",
              "                                                                                                                                      colsample_bynode=None,\n",
              "                                                                                                                                      colsample_bytree=None,\n",
              "                                                                                                                                      early_stopping_rounds=None,\n",
              "                                                                                                                                      enable_categorical=False...\n",
              "                                                                                                                                      monotone_constraints=None,\n",
              "                                                                                                                                      n_estimators=100,\n",
              "                                                                                                                                      n_jobs=None,\n",
              "                                                                                                                                      num_parallel_tree=None,\n",
              "                                                                                                                                      predictor=None,\n",
              "                                                                                                                                      random_state=None, ...))],\n",
              "                                                                                                           voting=&#x27;soft&#x27;,\n",
              "                                                                                                           weights=[1,\n",
              "                                                                                                                    1])),\n",
              "                                                                                         (&#x27;RFC&#x27;,\n",
              "                                                                                          RandomForestClassifier())],\n",
              "                                                                             voting=&#x27;soft&#x27;,\n",
              "                                                                             weights=[1,\n",
              "                                                                                      1])),\n",
              "                                                           (&#x27;RF&#x27;,\n",
              "                                                            RandomForestClassifier())],\n",
              "                                               voting=&#x27;soft&#x27;, weights=[1, 1])),\n",
              "                             (&#x27;ada&#x27;,\n",
              "                              AdaBoostClassifier(n_estimators=100,\n",
              "                                                 random_state=0))],\n",
              "                 voting=&#x27;soft&#x27;, weights=[1, 1])</pre><b>In a Jupyter environment, please rerun this cell to show the HTML representation or trust the notebook. <br />On GitHub, the HTML representation is unable to render, please try loading this page with nbviewer.org.</b></div><div class=\"sk-container\" hidden><div class=\"sk-item sk-dashed-wrapped\"><div class=\"sk-label-container\"><div class=\"sk-label sk-toggleable\"><input class=\"sk-toggleable__control sk-hidden--visually\" id=\"sk-estimator-id-18\" type=\"checkbox\" ><label for=\"sk-estimator-id-18\" class=\"sk-toggleable__label sk-toggleable__label-arrow\">VotingClassifier</label><div class=\"sk-toggleable__content\"><pre>VotingClassifier(estimators=[(&#x27;En3&#x27;,\n",
              "                              VotingClassifier(estimators=[(&#x27;En3&#x27;,\n",
              "                                                            VotingClassifier(estimators=[(&#x27;En1&#x27;,\n",
              "                                                                                          VotingClassifier(estimators=[(&#x27;KNN&#x27;,\n",
              "                                                                                                                        KNeighborsClassifier()),\n",
              "                                                                                                                       (&#x27;XG&#x27;,\n",
              "                                                                                                                        XGBClassifier(base_score=None,\n",
              "                                                                                                                                      booster=None,\n",
              "                                                                                                                                      callbacks=None,\n",
              "                                                                                                                                      colsample_bylevel=None,\n",
              "                                                                                                                                      colsample_bynode=None,\n",
              "                                                                                                                                      colsample_bytree=None,\n",
              "                                                                                                                                      early_stopping_rounds=None,\n",
              "                                                                                                                                      enable_categorical=False...\n",
              "                                                                                                                                      monotone_constraints=None,\n",
              "                                                                                                                                      n_estimators=100,\n",
              "                                                                                                                                      n_jobs=None,\n",
              "                                                                                                                                      num_parallel_tree=None,\n",
              "                                                                                                                                      predictor=None,\n",
              "                                                                                                                                      random_state=None, ...))],\n",
              "                                                                                                           voting=&#x27;soft&#x27;,\n",
              "                                                                                                           weights=[1,\n",
              "                                                                                                                    1])),\n",
              "                                                                                         (&#x27;RFC&#x27;,\n",
              "                                                                                          RandomForestClassifier())],\n",
              "                                                                             voting=&#x27;soft&#x27;,\n",
              "                                                                             weights=[1,\n",
              "                                                                                      1])),\n",
              "                                                           (&#x27;RF&#x27;,\n",
              "                                                            RandomForestClassifier())],\n",
              "                                               voting=&#x27;soft&#x27;, weights=[1, 1])),\n",
              "                             (&#x27;ada&#x27;,\n",
              "                              AdaBoostClassifier(n_estimators=100,\n",
              "                                                 random_state=0))],\n",
              "                 voting=&#x27;soft&#x27;, weights=[1, 1])</pre></div></div></div><div class=\"sk-parallel\"><div class=\"sk-parallel-item\"><div class=\"sk-item\"><div class=\"sk-label-container\"><div class=\"sk-label sk-toggleable\"><label>En3</label></div></div><div class=\"sk-serial\"><div class=\"sk-item sk-dashed-wrapped\"><div class=\"sk-parallel\"><div class=\"sk-parallel-item\"><div class=\"sk-item\"><div class=\"sk-label-container\"><div class=\"sk-label sk-toggleable\"><label>En3</label></div></div><div class=\"sk-serial\"><div class=\"sk-item sk-dashed-wrapped\"><div class=\"sk-parallel\"><div class=\"sk-parallel-item\"><div class=\"sk-item\"><div class=\"sk-label-container\"><div class=\"sk-label sk-toggleable\"><label>En1</label></div></div><div class=\"sk-serial\"><div class=\"sk-item sk-dashed-wrapped\"><div class=\"sk-parallel\"><div class=\"sk-parallel-item\"><div class=\"sk-item\"><div class=\"sk-label-container\"><div class=\"sk-label sk-toggleable\"><label>KNN</label></div></div><div class=\"sk-serial\"><div class=\"sk-item\"><div class=\"sk-estimator sk-toggleable\"><input class=\"sk-toggleable__control sk-hidden--visually\" id=\"sk-estimator-id-19\" type=\"checkbox\" ><label for=\"sk-estimator-id-19\" class=\"sk-toggleable__label sk-toggleable__label-arrow\">KNeighborsClassifier</label><div class=\"sk-toggleable__content\"><pre>KNeighborsClassifier()</pre></div></div></div></div></div></div><div class=\"sk-parallel-item\"><div class=\"sk-item\"><div class=\"sk-label-container\"><div class=\"sk-label sk-toggleable\"><label>XG</label></div></div><div class=\"sk-serial\"><div class=\"sk-item\"><div class=\"sk-estimator sk-toggleable\"><input class=\"sk-toggleable__control sk-hidden--visually\" id=\"sk-estimator-id-20\" type=\"checkbox\" ><label for=\"sk-estimator-id-20\" class=\"sk-toggleable__label sk-toggleable__label-arrow\">XGBClassifier</label><div class=\"sk-toggleable__content\"><pre>XGBClassifier(base_score=None, booster=None, callbacks=None,\n",
              "              colsample_bylevel=None, colsample_bynode=None,\n",
              "              colsample_bytree=None, early_stopping_rounds=None,\n",
              "              enable_categorical=False, eval_metric=None, feature_types=None,\n",
              "              gamma=None, gpu_id=None, grow_policy=None, importance_type=None,\n",
              "              interaction_constraints=None, learning_rate=None, max_bin=None,\n",
              "              max_cat_threshold=None, max_cat_to_onehot=None,\n",
              "              max_delta_step=None, max_depth=None, max_leaves=None,\n",
              "              min_child_weight=None, missing=nan, monotone_constraints=None,\n",
              "              n_estimators=100, n_jobs=None, num_parallel_tree=None,\n",
              "              predictor=None, random_state=None, ...)</pre></div></div></div></div></div></div></div></div></div></div></div><div class=\"sk-parallel-item\"><div class=\"sk-item\"><div class=\"sk-label-container\"><div class=\"sk-label sk-toggleable\"><label>RFC</label></div></div><div class=\"sk-serial\"><div class=\"sk-item\"><div class=\"sk-estimator sk-toggleable\"><input class=\"sk-toggleable__control sk-hidden--visually\" id=\"sk-estimator-id-21\" type=\"checkbox\" ><label for=\"sk-estimator-id-21\" class=\"sk-toggleable__label sk-toggleable__label-arrow\">RandomForestClassifier</label><div class=\"sk-toggleable__content\"><pre>RandomForestClassifier()</pre></div></div></div></div></div></div></div></div></div></div></div><div class=\"sk-parallel-item\"><div class=\"sk-item\"><div class=\"sk-label-container\"><div class=\"sk-label sk-toggleable\"><label>RF</label></div></div><div class=\"sk-serial\"><div class=\"sk-item\"><div class=\"sk-estimator sk-toggleable\"><input class=\"sk-toggleable__control sk-hidden--visually\" id=\"sk-estimator-id-22\" type=\"checkbox\" ><label for=\"sk-estimator-id-22\" class=\"sk-toggleable__label sk-toggleable__label-arrow\">RandomForestClassifier</label><div class=\"sk-toggleable__content\"><pre>RandomForestClassifier()</pre></div></div></div></div></div></div></div></div></div></div></div><div class=\"sk-parallel-item\"><div class=\"sk-item\"><div class=\"sk-label-container\"><div class=\"sk-label sk-toggleable\"><label>ada</label></div></div><div class=\"sk-serial\"><div class=\"sk-item\"><div class=\"sk-estimator sk-toggleable\"><input class=\"sk-toggleable__control sk-hidden--visually\" id=\"sk-estimator-id-23\" type=\"checkbox\" ><label for=\"sk-estimator-id-23\" class=\"sk-toggleable__label sk-toggleable__label-arrow\">AdaBoostClassifier</label><div class=\"sk-toggleable__content\"><pre>AdaBoostClassifier(n_estimators=100, random_state=0)</pre></div></div></div></div></div></div></div></div></div></div>"
            ]
          },
          "metadata": {},
          "execution_count": 75
        }
      ]
    },
    {
      "cell_type": "code",
      "source": [],
      "metadata": {
        "id": "eHEQLJfMboE8"
      },
      "execution_count": null,
      "outputs": []
    },
    {
      "cell_type": "code",
      "source": [
        "print(f'The accuracy score for the testing dataset is {est_Ensemble5.score(X_tes1, y_test1):.5f}')"
      ],
      "metadata": {
        "colab": {
          "base_uri": "https://localhost:8080/"
        },
        "id": "l86IWXHdSOIV",
        "outputId": "377c882a-cc13-46c3-a78f-5622b2093174"
      },
      "execution_count": null,
      "outputs": [
        {
          "output_type": "stream",
          "name": "stdout",
          "text": [
            "The accuracy score for the testing dataset is 0.59729\n"
          ]
        }
      ]
    },
    {
      "cell_type": "markdown",
      "source": [
        "**CONFUSION** **MATRIX**"
      ],
      "metadata": {
        "id": "9WPnitXrmD7q"
      }
    },
    {
      "cell_type": "code",
      "source": [
        "y_pred_e2 = est_Ensemble2.predict(X_tes1)"
      ],
      "metadata": {
        "id": "k-crk4T4rewA"
      },
      "execution_count": null,
      "outputs": []
    },
    {
      "cell_type": "code",
      "source": [
        "from sklearn.metrics import confusion_matrix\n",
        "confusion_matrix(y_test1, y_pred_e2)\n"
      ],
      "metadata": {
        "colab": {
          "base_uri": "https://localhost:8080/"
        },
        "id": "p7BxODGCJmqr",
        "outputId": "1f47b3f0-1be6-45c0-c825-fef6fdc321a2"
      },
      "execution_count": null,
      "outputs": [
        {
          "output_type": "execute_result",
          "data": {
            "text/plain": [
              "array([[1057,  806],\n",
              "       [ 721, 1260]])"
            ]
          },
          "metadata": {},
          "execution_count": 107
        }
      ]
    },
    {
      "cell_type": "code",
      "source": [
        "y_pred1 = svm.predict(X_tes1)\n",
        "confusion_matrix(y_test1, y_pred1)"
      ],
      "metadata": {
        "colab": {
          "base_uri": "https://localhost:8080/"
        },
        "id": "Vwl9p2zqJzGK",
        "outputId": "0d4a136b-5996-4c1d-8f04-642675017ce8"
      },
      "execution_count": null,
      "outputs": [
        {
          "output_type": "execute_result",
          "data": {
            "text/plain": [
              "array([[1135,  728],\n",
              "       [ 853, 1128]])"
            ]
          },
          "metadata": {},
          "execution_count": 108
        }
      ]
    },
    {
      "cell_type": "code",
      "source": [
        "y_pred2 = rfc.predict(X_tes1)\n",
        "confusion_matrix(y_test1, y_pred2)"
      ],
      "metadata": {
        "colab": {
          "base_uri": "https://localhost:8080/"
        },
        "id": "qgIiISV8KDCH",
        "outputId": "1974c8e0-615a-4f11-b664-c61bc44d2abf"
      },
      "execution_count": null,
      "outputs": [
        {
          "output_type": "stream",
          "name": "stderr",
          "text": [
            "/usr/local/lib/python3.10/dist-packages/sklearn/base.py:439: UserWarning: X does not have valid feature names, but RandomForestClassifier was fitted with feature names\n",
            "  warnings.warn(\n"
          ]
        },
        {
          "output_type": "execute_result",
          "data": {
            "text/plain": [
              "array([[  42, 1821],\n",
              "       [  50, 1931]])"
            ]
          },
          "metadata": {},
          "execution_count": 109
        }
      ]
    },
    {
      "cell_type": "code",
      "source": [
        "y_pred3 = KNN.predict(X_tes1)\n",
        "confusion_matrix(y_test1, y_pred3)"
      ],
      "metadata": {
        "colab": {
          "base_uri": "https://localhost:8080/"
        },
        "id": "iAMuDCO0KJIo",
        "outputId": "75e97d93-b054-4bcb-be63-95b6272aa7f2"
      },
      "execution_count": null,
      "outputs": [
        {
          "output_type": "stream",
          "name": "stderr",
          "text": [
            "/usr/local/lib/python3.10/dist-packages/sklearn/base.py:439: UserWarning: X does not have valid feature names, but KNeighborsClassifier was fitted with feature names\n",
            "  warnings.warn(\n"
          ]
        },
        {
          "output_type": "execute_result",
          "data": {
            "text/plain": [
              "array([[1863,    0],\n",
              "       [1981,    0]])"
            ]
          },
          "metadata": {},
          "execution_count": 110
        }
      ]
    },
    {
      "cell_type": "code",
      "source": [
        "y_pred4 = dtc.predict(X_tes1)\n",
        "confusion_matrix(y_test1, y_pred4)"
      ],
      "metadata": {
        "colab": {
          "base_uri": "https://localhost:8080/"
        },
        "id": "9LsSWPTZU6hH",
        "outputId": "bfb31779-9cf9-424d-dfd0-f8abdd088db9"
      },
      "execution_count": null,
      "outputs": [
        {
          "output_type": "execute_result",
          "data": {
            "text/plain": [
              "array([[1032,  831],\n",
              "       [ 792, 1189]])"
            ]
          },
          "metadata": {},
          "execution_count": 153
        }
      ]
    },
    {
      "cell_type": "code",
      "source": [
        "y_pred5 = cat.predict(X_tes1)\n",
        "confusion_matrix(y_test1, y_pred4)"
      ],
      "metadata": {
        "colab": {
          "base_uri": "https://localhost:8080/"
        },
        "id": "8kojTtDwVDGH",
        "outputId": "6a465491-b3e0-4424-8099-fd24599044af"
      },
      "execution_count": null,
      "outputs": [
        {
          "output_type": "execute_result",
          "data": {
            "text/plain": [
              "array([[1032,  831],\n",
              "       [ 792, 1189]])"
            ]
          },
          "metadata": {},
          "execution_count": 154
        }
      ]
    },
    {
      "cell_type": "code",
      "source": [
        "y_pred6 = xg1.predict(X_tes1)\n",
        "confusion_matrix(y_test1, y_pred6)"
      ],
      "metadata": {
        "colab": {
          "base_uri": "https://localhost:8080/"
        },
        "id": "mk2OEX_tVPF9",
        "outputId": "be89ed57-cb55-4119-e406-5bd2134e649c"
      },
      "execution_count": null,
      "outputs": [
        {
          "output_type": "execute_result",
          "data": {
            "text/plain": [
              "array([[1043,  820],\n",
              "       [ 509, 1472]])"
            ]
          },
          "metadata": {},
          "execution_count": 155
        }
      ]
    },
    {
      "cell_type": "code",
      "source": [
        "y_pred7 = dtc.predict(X_tes1)\n",
        "confusion_matrix(y_test1, y_pred7)"
      ],
      "metadata": {
        "colab": {
          "base_uri": "https://localhost:8080/"
        },
        "id": "kipVIqnKW-Oe",
        "outputId": "a0245737-0e0f-492f-8542-3b5fc523b10d"
      },
      "execution_count": null,
      "outputs": [
        {
          "output_type": "execute_result",
          "data": {
            "text/plain": [
              "array([[ 522, 1341],\n",
              "       [ 376, 1605]])"
            ]
          },
          "metadata": {},
          "execution_count": 159
        }
      ]
    },
    {
      "cell_type": "code",
      "source": [
        "y_pred_e1 = est_Ensemble1.predict(X_tes1)\n",
        "confusion_matrix(y_test1, y_pred_e1)"
      ],
      "metadata": {
        "colab": {
          "base_uri": "https://localhost:8080/"
        },
        "id": "GObVW0WQVS58",
        "outputId": "e85a18d6-588e-4e11-872d-f6a3bb7a0bfa"
      },
      "execution_count": null,
      "outputs": [
        {
          "output_type": "execute_result",
          "data": {
            "text/plain": [
              "array([[1027,  836],\n",
              "       [ 770, 1211]])"
            ]
          },
          "metadata": {},
          "execution_count": 157
        }
      ]
    },
    {
      "cell_type": "code",
      "source": [
        "y_pred_e3 = est_Ensemble3.predict(X_tes1)\n",
        "confusion_matrix(y_test1, y_pred_e3)"
      ],
      "metadata": {
        "colab": {
          "base_uri": "https://localhost:8080/"
        },
        "id": "4UdOz0eqVe91",
        "outputId": "98e19ace-615d-4f2e-cdfd-3c8e2bda1312"
      },
      "execution_count": null,
      "outputs": [
        {
          "output_type": "execute_result",
          "data": {
            "text/plain": [
              "array([[ 983,  880],\n",
              "       [ 689, 1292]])"
            ]
          },
          "metadata": {},
          "execution_count": 158
        }
      ]
    },
    {
      "cell_type": "code",
      "source": [
        "y_pred_e4 = est_Ensemble4.predict(X_tes1)\n",
        "confusion_matrix(y_test1, y_pred_e4)"
      ],
      "metadata": {
        "colab": {
          "base_uri": "https://localhost:8080/"
        },
        "id": "kb4x6N-_ZlOZ",
        "outputId": "1e5dca2a-309b-4806-90ed-8337f0d28d60"
      },
      "execution_count": null,
      "outputs": [
        {
          "output_type": "execute_result",
          "data": {
            "text/plain": [
              "array([[ 650, 1213],\n",
              "       [ 397, 1584]])"
            ]
          },
          "metadata": {},
          "execution_count": 160
        }
      ]
    },
    {
      "cell_type": "code",
      "source": [
        "y_pred_e5 = est_Ensemble4.predict(X_tes1)\n",
        "confusion_matrix(y_test1, y_pred_e5)"
      ],
      "metadata": {
        "colab": {
          "base_uri": "https://localhost:8080/"
        },
        "id": "kQ5gjgnHa5bH",
        "outputId": "54b8ca1f-6e35-48da-8bc3-d3e019cd231d"
      },
      "execution_count": null,
      "outputs": [
        {
          "output_type": "execute_result",
          "data": {
            "text/plain": [
              "array([[ 650, 1213],\n",
              "       [ 397, 1584]])"
            ]
          },
          "metadata": {},
          "execution_count": 161
        }
      ]
    }
  ],
  "metadata": {
    "accelerator": "GPU",
    "colab": {
      "provenance": [],
      "authorship_tag": "ABX9TyPZDrApcpA4IgUjLDVuI0l3",
      "include_colab_link": true
    },
    "gpuClass": "standard",
    "kernelspec": {
      "display_name": "Python 3",
      "name": "python3"
    },
    "language_info": {
      "name": "python"
    }
  },
  "nbformat": 4,
  "nbformat_minor": 0
}